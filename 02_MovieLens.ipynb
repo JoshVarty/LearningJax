{
 "cells": [
  {
   "cell_type": "markdown",
   "id": "91a47f75",
   "metadata": {},
   "source": [
    "# MovieLens Dataset\n"
   ]
  },
  {
   "cell_type": "markdown",
   "id": "79a210da",
   "metadata": {},
   "source": [
    "Based on the Keras code at: https://www.kaggle.com/colinmorris/embedding-layers"
   ]
  },
  {
   "cell_type": "code",
   "execution_count": 2,
   "id": "df061940",
   "metadata": {},
   "outputs": [],
   "source": [
    "import numpy as np\n",
    "import pandas as pd\n",
    "from matplotlib import pyplot as plt\n",
    "import os\n",
    "import random\n",
    "\n",
    "import tensorflow as tf\n",
    "import jax\n",
    "import jax.numpy as jnp\n",
    "import functools\n",
    "import optax\n",
    "from flax import struct\n",
    "from flax import linen as nn\n",
    "from flax.training import train_state"
   ]
  },
  {
   "cell_type": "code",
   "execution_count": 3,
   "id": "5791f8ec",
   "metadata": {},
   "outputs": [],
   "source": [
    "ratings_df = pd.read_csv(\"data/movie-lens/rating.csv\", usecols=['userId', 'movieId', 'rating'])\n",
    "movies_df = pd.read_csv(\"data/movie-lens/movie.csv\", usecols=['movieId', 'title'])\n",
    "df = ratings_df.merge(movies_df, on='movieId').sort_values(by='userId')"
   ]
  },
  {
   "cell_type": "code",
   "execution_count": 4,
   "id": "75b84bf7",
   "metadata": {},
   "outputs": [
    {
     "data": {
      "text/html": [
       "<div>\n",
       "<style scoped>\n",
       "    .dataframe tbody tr th:only-of-type {\n",
       "        vertical-align: middle;\n",
       "    }\n",
       "\n",
       "    .dataframe tbody tr th {\n",
       "        vertical-align: top;\n",
       "    }\n",
       "\n",
       "    .dataframe thead th {\n",
       "        text-align: right;\n",
       "    }\n",
       "</style>\n",
       "<table border=\"1\" class=\"dataframe\">\n",
       "  <thead>\n",
       "    <tr style=\"text-align: right;\">\n",
       "      <th></th>\n",
       "      <th>userId</th>\n",
       "      <th>movieId</th>\n",
       "      <th>rating</th>\n",
       "      <th>title</th>\n",
       "      <th>y</th>\n",
       "    </tr>\n",
       "  </thead>\n",
       "  <tbody>\n",
       "    <tr>\n",
       "      <th>0</th>\n",
       "      <td>1</td>\n",
       "      <td>2</td>\n",
       "      <td>3.5</td>\n",
       "      <td>Jumanji (1995)</td>\n",
       "      <td>-0.024267</td>\n",
       "    </tr>\n",
       "    <tr>\n",
       "      <th>505014</th>\n",
       "      <td>1</td>\n",
       "      <td>541</td>\n",
       "      <td>4.0</td>\n",
       "      <td>Blade Runner (1982)</td>\n",
       "      <td>0.451023</td>\n",
       "    </tr>\n",
       "    <tr>\n",
       "      <th>2380423</th>\n",
       "      <td>1</td>\n",
       "      <td>6807</td>\n",
       "      <td>3.5</td>\n",
       "      <td>Monty Python's The Meaning of Life (1983)</td>\n",
       "      <td>-0.024267</td>\n",
       "    </tr>\n",
       "    <tr>\n",
       "      <th>2378699</th>\n",
       "      <td>1</td>\n",
       "      <td>6774</td>\n",
       "      <td>4.0</td>\n",
       "      <td>Videodrome (1983)</td>\n",
       "      <td>0.451023</td>\n",
       "    </tr>\n",
       "    <tr>\n",
       "      <th>2376750</th>\n",
       "      <td>1</td>\n",
       "      <td>6755</td>\n",
       "      <td>3.5</td>\n",
       "      <td>Bubba Ho-tep (2002)</td>\n",
       "      <td>-0.024267</td>\n",
       "    </tr>\n",
       "    <tr>\n",
       "      <th>...</th>\n",
       "      <td>...</td>\n",
       "      <td>...</td>\n",
       "      <td>...</td>\n",
       "      <td>...</td>\n",
       "      <td>...</td>\n",
       "    </tr>\n",
       "    <tr>\n",
       "      <th>8765330</th>\n",
       "      <td>138493</td>\n",
       "      <td>4343</td>\n",
       "      <td>4.0</td>\n",
       "      <td>Evolution (2001)</td>\n",
       "      <td>0.451023</td>\n",
       "    </tr>\n",
       "    <tr>\n",
       "      <th>2266440</th>\n",
       "      <td>138493</td>\n",
       "      <td>5679</td>\n",
       "      <td>5.0</td>\n",
       "      <td>Ring, The (2002)</td>\n",
       "      <td>1.401604</td>\n",
       "    </tr>\n",
       "    <tr>\n",
       "      <th>17434898</th>\n",
       "      <td>138493</td>\n",
       "      <td>4673</td>\n",
       "      <td>4.0</td>\n",
       "      <td>Tango &amp; Cash (1989)</td>\n",
       "      <td>0.451023</td>\n",
       "    </tr>\n",
       "    <tr>\n",
       "      <th>14982572</th>\n",
       "      <td>138493</td>\n",
       "      <td>836</td>\n",
       "      <td>3.5</td>\n",
       "      <td>Chain Reaction (1996)</td>\n",
       "      <td>-0.024267</td>\n",
       "    </tr>\n",
       "    <tr>\n",
       "      <th>16315350</th>\n",
       "      <td>138493</td>\n",
       "      <td>48780</td>\n",
       "      <td>5.0</td>\n",
       "      <td>Prestige, The (2006)</td>\n",
       "      <td>1.401604</td>\n",
       "    </tr>\n",
       "  </tbody>\n",
       "</table>\n",
       "<p>20000263 rows × 5 columns</p>\n",
       "</div>"
      ],
      "text/plain": [
       "          userId  movieId  rating                                      title  \\\n",
       "0              1        2     3.5                             Jumanji (1995)   \n",
       "505014         1      541     4.0                        Blade Runner (1982)   \n",
       "2380423        1     6807     3.5  Monty Python's The Meaning of Life (1983)   \n",
       "2378699        1     6774     4.0                          Videodrome (1983)   \n",
       "2376750        1     6755     3.5                        Bubba Ho-tep (2002)   \n",
       "...          ...      ...     ...                                        ...   \n",
       "8765330   138493     4343     4.0                           Evolution (2001)   \n",
       "2266440   138493     5679     5.0                           Ring, The (2002)   \n",
       "17434898  138493     4673     4.0                        Tango & Cash (1989)   \n",
       "14982572  138493      836     3.5                      Chain Reaction (1996)   \n",
       "16315350  138493    48780     5.0                       Prestige, The (2006)   \n",
       "\n",
       "                 y  \n",
       "0        -0.024267  \n",
       "505014    0.451023  \n",
       "2380423  -0.024267  \n",
       "2378699   0.451023  \n",
       "2376750  -0.024267  \n",
       "...            ...  \n",
       "8765330   0.451023  \n",
       "2266440   1.401604  \n",
       "17434898  0.451023  \n",
       "14982572 -0.024267  \n",
       "16315350  1.401604  \n",
       "\n",
       "[20000263 rows x 5 columns]"
      ]
     },
     "execution_count": 4,
     "metadata": {},
     "output_type": "execute_result"
    }
   ],
   "source": [
    "# Normalize the ratings\n",
    "df['y'] = (df['rating'] - df['rating'].mean())/df['rating'].std()\n",
    "df"
   ]
  },
  {
   "cell_type": "code",
   "execution_count": 5,
   "id": "6d43997b",
   "metadata": {},
   "outputs": [],
   "source": [
    "# Shuffle\n",
    "df = df.sample(frac=1, random_state=1) \n",
    "# First 10,000 for test\n",
    "test_df = df.iloc[:10000]\n",
    "# Rest for train\n",
    "train_df = df.iloc[10000:]"
   ]
  },
  {
   "cell_type": "code",
   "execution_count": 6,
   "id": "3c1f63cb",
   "metadata": {},
   "outputs": [
    {
     "name": "stdout",
     "output_type": "stream",
     "text": [
      "138,493 distinct users rated 26,744 different movies (total ratings = 20,000,263)\n"
     ]
    }
   ],
   "source": [
    "n_movies = len(df.movieId.unique())\n",
    "n_users = len(df.userId.unique())\n",
    "print(\n",
    "    \"{1:,} distinct users rated {0:,} different movies (total ratings = {2:,})\".format(\n",
    "        n_movies, n_users, len(df),\n",
    "    )\n",
    ")"
   ]
  },
  {
   "cell_type": "code",
   "execution_count": 7,
   "id": "2d1b7719",
   "metadata": {},
   "outputs": [],
   "source": [
    "@struct.dataclass\n",
    "class MovieLensConfig:\n",
    "  \"\"\"Global hyperparameters for our MovieLens Model\"\"\"\n",
    "  users_size: int = n_users   # 138,493\n",
    "  movies_size: int = n_movies # 26,744\n",
    "  emb_dim: int = 8\n",
    "  dense_size_0: int = 32\n",
    "  dense_size_1: int = 4\n",
    "  out_size: int = 1\n",
    "  num_epochs: int = 40\n",
    "  batch_size: int = 8192\n",
    "  lr: float = 0.0015\n",
    "  momentum: float = 0.1"
   ]
  },
  {
   "cell_type": "code",
   "execution_count": 8,
   "id": "0dbf0ab1",
   "metadata": {},
   "outputs": [],
   "source": [
    "class MovieLensModel(nn.Module):\n",
    "  \"\"\"A simple embedding model.\"\"\"\n",
    "\n",
    "  config: MovieLensConfig\n",
    "\n",
    "  @nn.compact\n",
    "  def __call__(self, user_id, movie_id):\n",
    "    \n",
    "    cfg = self.config\n",
    "    \n",
    "    user_id = user_id.astype('int32')\n",
    "    user_emb = nn.Embed(num_embeddings=cfg.users_size, features=cfg.emb_dim, name='user')(user_id)\n",
    "    \n",
    "    movie_id = movie_id.astype('int32')\n",
    "    movie_emb = nn.Embed(num_embeddings=cfg.movies_size, features=cfg.emb_dim, name='movie')(movie_id)\n",
    "    \n",
    "    x = jnp.concatenate((user_emb, movie_emb))\n",
    "    \n",
    "    x = nn.Dense(cfg.dense_size_0, kernel_init=nn.initializers.xavier_uniform(), bias_init=nn.initializers.normal(stddev=1e-6))(x)\n",
    "    x = nn.relu(x)\n",
    "    x = nn.Dense(cfg.dense_size_1, kernel_init=nn.initializers.xavier_uniform(), bias_init=nn.initializers.normal(stddev=1e-6))(x)\n",
    "    x = nn.relu(x)\n",
    "    x = nn.Dense(cfg.out_size, kernel_init=nn.initializers.xavier_uniform(), bias_init=nn.initializers.normal(stddev=1e-6))(x)\n",
    "\n",
    "    return x"
   ]
  },
  {
   "cell_type": "code",
   "execution_count": 9,
   "id": "0d02f9fe",
   "metadata": {},
   "outputs": [],
   "source": [
    "@functools.partial(jax.jit, static_argnums=(0))\n",
    "def apply_model(cfg, state, user_id, movie_id, rating):\n",
    "  \n",
    "  def loss_fn(params):\n",
    "    logits = MovieLensModel(cfg).apply({'params': params}, user_id, movie_id)\n",
    "    loss = jnp.mean(optax.l2_loss(predictions=logits, targets=rating))\n",
    "    return loss, logits\n",
    "  \n",
    "  grad_fn = jax.value_and_grad(loss_fn, has_aux=True)\n",
    "  (loss, logits), grads = grad_fn(state.params)\n",
    "  return grads, loss    "
   ]
  },
  {
   "cell_type": "code",
   "execution_count": 10,
   "id": "d89c60e0",
   "metadata": {},
   "outputs": [],
   "source": [
    "@jax.jit\n",
    "def update_model(state, grads):\n",
    "  return state.apply_gradients(grads=grads)"
   ]
  },
  {
   "cell_type": "code",
   "execution_count": 11,
   "id": "5ec431f5",
   "metadata": {},
   "outputs": [],
   "source": [
    "def train_epoch(cfg, state, train_df, rng):\n",
    "  \"\"\"Train for a single epoch.\"\"\"\n",
    "  train_df_size = len(train_df)\n",
    "  steps_per_epoch = train_df_size // cfg.batch_size\n",
    "  \n",
    "  perms = jax.random.permutation(rng, train_df_size)\n",
    "  perms = perms[:steps_per_epoch * cfg.batch_size]  # skip incomplete batch\n",
    "  perms = perms.reshape((steps_per_epoch, cfg.batch_size))\n",
    "  \n",
    "  epoch_loss = []\n",
    "  \n",
    "  for perm in perms:\n",
    "    # x\n",
    "    batch_user_id = train_df.iloc[perm]['userId'].values\n",
    "    batch_movie_id = train_df.iloc[perm]['movieId'].values\n",
    "    # y\n",
    "    batch_rating = train_df.iloc[perm]['y'].values\n",
    "    \n",
    "    grads, loss = apply_model(cfg, state, batch_user_id, batch_movie_id, batch_rating)\n",
    "    state = update_model(state, grads)\n",
    "    epoch_loss.append(loss)\n",
    "    \n",
    "  train_loss = np.mean(epoch_loss)\n",
    "  return state, train_loss"
   ]
  },
  {
   "cell_type": "code",
   "execution_count": 12,
   "id": "42ea9dff",
   "metadata": {},
   "outputs": [],
   "source": [
    "def create_train_state(rng, config):\n",
    "  \"\"\"Creates initial `TrainState`.\"\"\"\n",
    "  model = MovieLensModel(config)\n",
    "  user_id_fake = jnp.zeros((1), jnp.int32)\n",
    "  movie_id_fake = jnp.zeros((1), jnp.int32)\n",
    "  # Pass fake values through our model to initialize the parameters\n",
    "  params = model.init(rng, user_id_fake, movie_id_fake)['params']\n",
    "  \n",
    "  # TODO(joshvarty): Consider other optimizers.\n",
    "  tx = optax.sgd(config.lr)\n",
    "  return train_state.TrainState.create(\n",
    "      apply_fn=model.apply, params=params, tx=tx)"
   ]
  },
  {
   "cell_type": "code",
   "execution_count": 13,
   "id": "02c9b0cf",
   "metadata": {},
   "outputs": [
    {
     "name": "stdout",
     "output_type": "stream",
     "text": [
      "Success.\n"
     ]
    }
   ],
   "source": [
    "# Check if we can create trainstate\n",
    "config = MovieLensConfig()\n",
    "rng = jax.random.PRNGKey(0)\n",
    "rng, init_rng = jax.random.split(rng)\n",
    "state = create_train_state(init_rng, config)\n",
    "print(\"Success.\")"
   ]
  },
  {
   "cell_type": "code",
   "execution_count": 14,
   "id": "e126ca0d",
   "metadata": {},
   "outputs": [],
   "source": [
    "def train_and_evaluate(config, train_df, test_df):\n",
    "  rng = jax.random.PRNGKey(0)\n",
    "  rng, init_rng = jax.random.split(rng)\n",
    "  state = create_train_state(init_rng, config)\n",
    "  \n",
    "  for epoch in range(1, config.num_epochs + 1):\n",
    "    rng, input_rng = jax.random.split(rng)\n",
    "    state, train_loss = train_epoch(config, state, train_df, rng)\n",
    "    \n",
    "    user_id = test_df['userId'].values\n",
    "    movie_id = test_df['movieId'].values\n",
    "    rating = test_df['y'].values\n",
    "    _, test_loss = apply_model(config, state, user_id, movie_id, rating)\n",
    "    \n",
    "    print(\n",
    "        'epoch:% 3d, train_loss: %.4f, test_loss: %.4f'\n",
    "        % (epoch, train_loss, test_loss))\n",
    "    \n",
    "  return state"
   ]
  },
  {
   "cell_type": "code",
   "execution_count": 15,
   "id": "865b7091",
   "metadata": {},
   "outputs": [
    {
     "data": {
      "text/plain": [
       "DeviceArray([[-0.24850503],\n",
       "             [-0.12539954],\n",
       "             [-0.1477067 ],\n",
       "             ...,\n",
       "             [ 0.10562674],\n",
       "             [-0.10492511],\n",
       "             [ 0.16549747]], dtype=float32)"
      ]
     },
     "execution_count": 15,
     "metadata": {},
     "output_type": "execute_result"
    }
   ],
   "source": [
    "# Sample output\n",
    "user_id = test_df['userId'].values\n",
    "movie_id = test_df['movieId'].values\n",
    "rating = test_df['y'].values\n",
    "logits = MovieLensModel(config).apply({'params': state.params}, user_id, movie_id)\n",
    "logits"
   ]
  },
  {
   "cell_type": "code",
   "execution_count": 16,
   "id": "6883f0af",
   "metadata": {
    "scrolled": true
   },
   "outputs": [
    {
     "name": "stdout",
     "output_type": "stream",
     "text": [
      "epoch:  1, train_loss: 0.5048, test_loss: 0.5157\n",
      "epoch:  2, train_loss: 0.5026, test_loss: 0.5144\n",
      "epoch:  3, train_loss: 0.5016, test_loss: 0.5137\n",
      "epoch:  4, train_loss: 0.5011, test_loss: 0.5134\n",
      "epoch:  5, train_loss: 0.5008, test_loss: 0.5132\n",
      "epoch:  6, train_loss: 0.5007, test_loss: 0.5130\n",
      "epoch:  7, train_loss: 0.5006, test_loss: 0.5129\n",
      "epoch:  8, train_loss: 0.5005, test_loss: 0.5129\n",
      "epoch:  9, train_loss: 0.5004, test_loss: 0.5128\n",
      "epoch: 10, train_loss: 0.5004, test_loss: 0.5128\n",
      "epoch: 11, train_loss: 0.5003, test_loss: 0.5127\n",
      "epoch: 12, train_loss: 0.5003, test_loss: 0.5127\n",
      "epoch: 13, train_loss: 0.5003, test_loss: 0.5127\n",
      "epoch: 14, train_loss: 0.5002, test_loss: 0.5126\n",
      "epoch: 15, train_loss: 0.5002, test_loss: 0.5126\n",
      "epoch: 16, train_loss: 0.5002, test_loss: 0.5126\n",
      "epoch: 17, train_loss: 0.5002, test_loss: 0.5126\n",
      "epoch: 18, train_loss: 0.5002, test_loss: 0.5126\n",
      "epoch: 19, train_loss: 0.5001, test_loss: 0.5126\n",
      "epoch: 20, train_loss: 0.5001, test_loss: 0.5126\n",
      "epoch: 21, train_loss: 0.5001, test_loss: 0.5125\n",
      "epoch: 22, train_loss: 0.5001, test_loss: 0.5125\n",
      "epoch: 23, train_loss: 0.5001, test_loss: 0.5125\n",
      "epoch: 24, train_loss: 0.5001, test_loss: 0.5125\n",
      "epoch: 25, train_loss: 0.5001, test_loss: 0.5125\n",
      "epoch: 26, train_loss: 0.5001, test_loss: 0.5125\n",
      "epoch: 27, train_loss: 0.5001, test_loss: 0.5125\n",
      "epoch: 28, train_loss: 0.5001, test_loss: 0.5125\n",
      "epoch: 29, train_loss: 0.5001, test_loss: 0.5125\n",
      "epoch: 30, train_loss: 0.5001, test_loss: 0.5125\n",
      "epoch: 31, train_loss: 0.5001, test_loss: 0.5125\n",
      "epoch: 32, train_loss: 0.5001, test_loss: 0.5125\n",
      "epoch: 33, train_loss: 0.5001, test_loss: 0.5125\n",
      "epoch: 34, train_loss: 0.5001, test_loss: 0.5125\n",
      "epoch: 35, train_loss: 0.5001, test_loss: 0.5125\n",
      "epoch: 36, train_loss: 0.5001, test_loss: 0.5125\n",
      "epoch: 37, train_loss: 0.5000, test_loss: 0.5125\n",
      "epoch: 38, train_loss: 0.5000, test_loss: 0.5125\n",
      "epoch: 39, train_loss: 0.5000, test_loss: 0.5125\n",
      "epoch: 40, train_loss: 0.5000, test_loss: 0.5125\n"
     ]
    }
   ],
   "source": [
    "# Hide any GPUs from TensorFlow. Otherwise TF might reserve memory and make\n",
    "# it unavailable to JAX.\n",
    "tf.config.experimental.set_visible_devices([], 'GPU')\n",
    "config = MovieLensConfig()\n",
    "\n",
    "state = train_and_evaluate(config, train_df, test_df)"
   ]
  },
  {
   "cell_type": "code",
   "execution_count": 17,
   "id": "efce8b75",
   "metadata": {},
   "outputs": [
    {
     "data": {
      "text/plain": [
       "DeviceArray([[-0.02975536],\n",
       "             [ 0.00179531],\n",
       "             [-0.01827695],\n",
       "             ...,\n",
       "             [ 0.00573348],\n",
       "             [-0.00702804],\n",
       "             [ 0.00250866]], dtype=float32)"
      ]
     },
     "execution_count": 17,
     "metadata": {},
     "output_type": "execute_result"
    }
   ],
   "source": [
    "# Sample output\n",
    "user_id = test_df['userId'].values\n",
    "movie_id = test_df['movieId'].values\n",
    "rating = test_df['y'].values\n",
    "logits = MovieLensModel(config).apply({'params': state.params}, user_id, movie_id)\n",
    "logits"
   ]
  },
  {
   "cell_type": "markdown",
   "id": "7c5cfdbe",
   "metadata": {},
   "source": [
    "## Thoughts\n",
    "\n",
    "It's not working:\n",
    "\n",
    " - Are the ratings balanced? Can we rebalance?\n",
    " - Are the User/Movie embedding updating?\n",
    " - Do we want different LRs for the embeddings vs weights?\n"
   ]
  },
  {
   "cell_type": "markdown",
   "id": "98420ca2",
   "metadata": {},
   "source": [
    "###  What is the best train/test loss we've seen? "
   ]
  },
  {
   "cell_type": "code",
   "execution_count": 18,
   "id": "42ebdb79",
   "metadata": {},
   "outputs": [],
   "source": [
    "# train loss: 0.5051\n",
    "# test loss:  0.5174\n",
    "@struct.dataclass\n",
    "class MovieLensConfig:\n",
    "  \"\"\"Global hyperparameters for our MovieLens Model\"\"\"\n",
    "  users_size: int = n_users   # 138,493\n",
    "  movies_size: int = n_movies # 26,744\n",
    "  emb_dim: int = 8\n",
    "  dense_size_0: int = 32\n",
    "  dense_size_1: int = 4\n",
    "  out_size: int = 1\n",
    "  num_epochs: int = 40\n",
    "  batch_size: int = 8192\n",
    "  lr: float = 0.000015\n",
    "  momentum: float = 0.1\n",
    "    \n",
    "    \n",
    "# train loss: 0.5010\n",
    "# test loss:  0.5134\n",
    "@struct.dataclass\n",
    "class MovieLensConfig:\n",
    "  \"\"\"Global hyperparameters for our MovieLens Model\"\"\"\n",
    "  users_size: int = n_users   # 138,493\n",
    "  movies_size: int = n_movies # 26,744\n",
    "  emb_dim: int = 8\n",
    "  dense_size_0: int = 32\n",
    "  dense_size_1: int = 4\n",
    "  out_size: int = 1\n",
    "  num_epochs: int = 40\n",
    "  batch_size: int = 8192\n",
    "  lr: float = 0.00015\n",
    "  momentum: float = 0.1\n",
    "    \n",
    "    \n",
    "# train loss: 0.5000\n",
    "# test_loss:  0.5125\n",
    "@struct.dataclass\n",
    "class MovieLensConfig:\n",
    "  \"\"\"Global hyperparameters for our MovieLens Model\"\"\"\n",
    "  users_size: int = n_users   # 138,493\n",
    "  movies_size: int = n_movies # 26,744\n",
    "  emb_dim: int = 8\n",
    "  dense_size_0: int = 32\n",
    "  dense_size_1: int = 4\n",
    "  out_size: int = 1\n",
    "  num_epochs: int = 40\n",
    "  batch_size: int = 8192\n",
    "  lr: float = 0.0015\n",
    "  momentum: float = 0.1\n"
   ]
  },
  {
   "cell_type": "markdown",
   "id": "edaa6b61",
   "metadata": {},
   "source": [
    "## TODO: Is this working?\n",
    "\n",
    "- Add a metric. Maybe Mean Absolute Error?\n",
    "- Compare MAE from predicting mean to MAE from our model.\n",
    "- Look at a user's ratings compared to the predicted ratings? Are they reasonable?\n",
    "- Find movies that are similar to one another."
   ]
  },
  {
   "cell_type": "code",
   "execution_count": null,
   "id": "7324e5b1",
   "metadata": {},
   "outputs": [],
   "source": []
  }
 ],
 "metadata": {
  "kernelspec": {
   "display_name": "Python 3 (ipykernel)",
   "language": "python",
   "name": "python3"
  },
  "language_info": {
   "codemirror_mode": {
    "name": "ipython",
    "version": 3
   },
   "file_extension": ".py",
   "mimetype": "text/x-python",
   "name": "python",
   "nbconvert_exporter": "python",
   "pygments_lexer": "ipython3",
   "version": "3.8.10"
  }
 },
 "nbformat": 4,
 "nbformat_minor": 5
}
