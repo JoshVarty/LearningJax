{
 "cells": [
  {
   "cell_type": "markdown",
   "id": "91a47f75",
   "metadata": {},
   "source": [
    "# MovieLens Dataset\n"
   ]
  },
  {
   "cell_type": "markdown",
   "id": "79a210da",
   "metadata": {},
   "source": [
    "Based on the Keras code at: https://www.kaggle.com/colinmorris/embedding-layers"
   ]
  },
  {
   "cell_type": "code",
   "execution_count": 1,
   "id": "df061940",
   "metadata": {},
   "outputs": [],
   "source": [
    "import numpy as np\n",
    "import pandas as pd\n",
    "from matplotlib import pyplot as plt\n",
    "import os\n",
    "import random\n",
    "\n",
    "import tensorflow as tf\n",
    "import jax\n",
    "import jax.numpy as jnp\n",
    "import functools\n",
    "import optax\n",
    "from flax import struct\n",
    "from flax import linen as nn\n",
    "from flax.training import train_state"
   ]
  },
  {
   "cell_type": "code",
   "execution_count": 2,
   "id": "5791f8ec",
   "metadata": {},
   "outputs": [],
   "source": [
    "ratings_df = pd.read_csv(\"data/movie-lens/rating.csv\", usecols=['userId', 'movieId', 'rating'])\n",
    "movies_df = pd.read_csv(\"data/movie-lens/movie.csv\", usecols=['movieId', 'title'])\n",
    "df = ratings_df.merge(movies_df, on='movieId').sort_values(by='userId')"
   ]
  },
  {
   "cell_type": "code",
   "execution_count": 3,
   "id": "75b84bf7",
   "metadata": {},
   "outputs": [
    {
     "data": {
      "text/html": [
       "<div>\n",
       "<style scoped>\n",
       "    .dataframe tbody tr th:only-of-type {\n",
       "        vertical-align: middle;\n",
       "    }\n",
       "\n",
       "    .dataframe tbody tr th {\n",
       "        vertical-align: top;\n",
       "    }\n",
       "\n",
       "    .dataframe thead th {\n",
       "        text-align: right;\n",
       "    }\n",
       "</style>\n",
       "<table border=\"1\" class=\"dataframe\">\n",
       "  <thead>\n",
       "    <tr style=\"text-align: right;\">\n",
       "      <th></th>\n",
       "      <th>userId</th>\n",
       "      <th>movieId</th>\n",
       "      <th>rating</th>\n",
       "      <th>title</th>\n",
       "      <th>y</th>\n",
       "    </tr>\n",
       "  </thead>\n",
       "  <tbody>\n",
       "    <tr>\n",
       "      <th>0</th>\n",
       "      <td>1</td>\n",
       "      <td>2</td>\n",
       "      <td>3.5</td>\n",
       "      <td>Jumanji (1995)</td>\n",
       "      <td>-0.024267</td>\n",
       "    </tr>\n",
       "    <tr>\n",
       "      <th>505014</th>\n",
       "      <td>1</td>\n",
       "      <td>541</td>\n",
       "      <td>4.0</td>\n",
       "      <td>Blade Runner (1982)</td>\n",
       "      <td>0.451023</td>\n",
       "    </tr>\n",
       "    <tr>\n",
       "      <th>2380423</th>\n",
       "      <td>1</td>\n",
       "      <td>6807</td>\n",
       "      <td>3.5</td>\n",
       "      <td>Monty Python's The Meaning of Life (1983)</td>\n",
       "      <td>-0.024267</td>\n",
       "    </tr>\n",
       "    <tr>\n",
       "      <th>2378699</th>\n",
       "      <td>1</td>\n",
       "      <td>6774</td>\n",
       "      <td>4.0</td>\n",
       "      <td>Videodrome (1983)</td>\n",
       "      <td>0.451023</td>\n",
       "    </tr>\n",
       "    <tr>\n",
       "      <th>2376750</th>\n",
       "      <td>1</td>\n",
       "      <td>6755</td>\n",
       "      <td>3.5</td>\n",
       "      <td>Bubba Ho-tep (2002)</td>\n",
       "      <td>-0.024267</td>\n",
       "    </tr>\n",
       "    <tr>\n",
       "      <th>...</th>\n",
       "      <td>...</td>\n",
       "      <td>...</td>\n",
       "      <td>...</td>\n",
       "      <td>...</td>\n",
       "      <td>...</td>\n",
       "    </tr>\n",
       "    <tr>\n",
       "      <th>8765330</th>\n",
       "      <td>138493</td>\n",
       "      <td>4343</td>\n",
       "      <td>4.0</td>\n",
       "      <td>Evolution (2001)</td>\n",
       "      <td>0.451023</td>\n",
       "    </tr>\n",
       "    <tr>\n",
       "      <th>2266440</th>\n",
       "      <td>138493</td>\n",
       "      <td>5679</td>\n",
       "      <td>5.0</td>\n",
       "      <td>Ring, The (2002)</td>\n",
       "      <td>1.401604</td>\n",
       "    </tr>\n",
       "    <tr>\n",
       "      <th>17434898</th>\n",
       "      <td>138493</td>\n",
       "      <td>4673</td>\n",
       "      <td>4.0</td>\n",
       "      <td>Tango &amp; Cash (1989)</td>\n",
       "      <td>0.451023</td>\n",
       "    </tr>\n",
       "    <tr>\n",
       "      <th>14982572</th>\n",
       "      <td>138493</td>\n",
       "      <td>836</td>\n",
       "      <td>3.5</td>\n",
       "      <td>Chain Reaction (1996)</td>\n",
       "      <td>-0.024267</td>\n",
       "    </tr>\n",
       "    <tr>\n",
       "      <th>16315350</th>\n",
       "      <td>138493</td>\n",
       "      <td>48780</td>\n",
       "      <td>5.0</td>\n",
       "      <td>Prestige, The (2006)</td>\n",
       "      <td>1.401604</td>\n",
       "    </tr>\n",
       "  </tbody>\n",
       "</table>\n",
       "<p>20000263 rows × 5 columns</p>\n",
       "</div>"
      ],
      "text/plain": [
       "          userId  movieId  rating                                      title  \\\n",
       "0              1        2     3.5                             Jumanji (1995)   \n",
       "505014         1      541     4.0                        Blade Runner (1982)   \n",
       "2380423        1     6807     3.5  Monty Python's The Meaning of Life (1983)   \n",
       "2378699        1     6774     4.0                          Videodrome (1983)   \n",
       "2376750        1     6755     3.5                        Bubba Ho-tep (2002)   \n",
       "...          ...      ...     ...                                        ...   \n",
       "8765330   138493     4343     4.0                           Evolution (2001)   \n",
       "2266440   138493     5679     5.0                           Ring, The (2002)   \n",
       "17434898  138493     4673     4.0                        Tango & Cash (1989)   \n",
       "14982572  138493      836     3.5                      Chain Reaction (1996)   \n",
       "16315350  138493    48780     5.0                       Prestige, The (2006)   \n",
       "\n",
       "                 y  \n",
       "0        -0.024267  \n",
       "505014    0.451023  \n",
       "2380423  -0.024267  \n",
       "2378699   0.451023  \n",
       "2376750  -0.024267  \n",
       "...            ...  \n",
       "8765330   0.451023  \n",
       "2266440   1.401604  \n",
       "17434898  0.451023  \n",
       "14982572 -0.024267  \n",
       "16315350  1.401604  \n",
       "\n",
       "[20000263 rows x 5 columns]"
      ]
     },
     "execution_count": 3,
     "metadata": {},
     "output_type": "execute_result"
    }
   ],
   "source": [
    "# Normalize the ratings\n",
    "df['y'] = (df['rating'] - df['rating'].mean())/df['rating'].std()\n",
    "df"
   ]
  },
  {
   "cell_type": "code",
   "execution_count": 4,
   "id": "6d43997b",
   "metadata": {},
   "outputs": [],
   "source": [
    "# Shuffle\n",
    "df = df.sample(frac=1, random_state=1) \n",
    "# First 50,000 for test\n",
    "test_df = df.iloc[:50000]\n",
    "# Rest for train\n",
    "train_df = df.iloc[50000:]"
   ]
  },
  {
   "cell_type": "code",
   "execution_count": 5,
   "id": "3c1f63cb",
   "metadata": {},
   "outputs": [
    {
     "name": "stdout",
     "output_type": "stream",
     "text": [
      "138,493 distinct users rated 26,744 different movies (total ratings = 20,000,263)\n"
     ]
    }
   ],
   "source": [
    "n_movies = len(df.movieId.unique())\n",
    "n_users = len(df.userId.unique())\n",
    "print(\n",
    "    \"{1:,} distinct users rated {0:,} different movies (total ratings = {2:,})\".format(\n",
    "        n_movies, n_users, len(df),\n",
    "    )\n",
    ")"
   ]
  },
  {
   "cell_type": "code",
   "execution_count": 6,
   "id": "2d1b7719",
   "metadata": {},
   "outputs": [],
   "source": [
    "@struct.dataclass\n",
    "class MovieLensConfig:\n",
    "  \"\"\"Global hyperparameters for our MovieLens Model\"\"\"\n",
    "  users_size: int = n_users + 1   # 138,493 (+1 because we are 1-indexed)\n",
    "  movies_size: int = n_movies + 1 # 26,744  (+1 because we are 1-indexed)\n",
    "  emb_dim: int = 8\n",
    "  dense_size_0: int = 32\n",
    "  dense_size_1: int = 4\n",
    "  out_size: int = 1\n",
    "  num_epochs: int = 10\n",
    "  batch_size: int = 5000\n",
    "  lr: float = 0.005\n",
    "  momentum: float = 0.1"
   ]
  },
  {
   "cell_type": "code",
   "execution_count": 7,
   "id": "0dbf0ab1",
   "metadata": {},
   "outputs": [],
   "source": [
    "class MovieLensModel(nn.Module):\n",
    "  \"\"\"A simple embedding model.\"\"\"\n",
    "\n",
    "  config: MovieLensConfig\n",
    "\n",
    "  @nn.compact\n",
    "  def __call__(self, user_id, movie_id):\n",
    "    \n",
    "    cfg = self.config\n",
    "    \n",
    "    user_id = user_id.astype('int32')\n",
    "    user_emb = nn.Embed(num_embeddings=cfg.users_size, embedding_init=nn.initializers.xavier_uniform(), features=cfg.emb_dim, name='user')(user_id)\n",
    "    \n",
    "    movie_id = movie_id.astype('int32')\n",
    "    movie_emb = nn.Embed(num_embeddings=cfg.movies_size, embedding_init=nn.initializers.xavier_uniform(), features=cfg.emb_dim, name='movie')(movie_id)\n",
    "    \n",
    "    x = jnp.concatenate((user_emb, movie_emb))\n",
    "    \n",
    "    x = nn.Dense(cfg.dense_size_0, kernel_init=nn.initializers.xavier_uniform(), bias_init=nn.initializers.normal(stddev=1e-6))(x)\n",
    "    x = nn.relu(x)\n",
    "    x = nn.Dense(cfg.dense_size_1, kernel_init=nn.initializers.xavier_uniform(), bias_init=nn.initializers.normal(stddev=1e-6))(x)\n",
    "    x = nn.relu(x)\n",
    "    x = nn.Dense(cfg.out_size, kernel_init=nn.initializers.xavier_uniform(), bias_init=nn.initializers.normal(stddev=1e-6))(x)\n",
    "\n",
    "    return x"
   ]
  },
  {
   "cell_type": "code",
   "execution_count": 8,
   "id": "0d02f9fe",
   "metadata": {},
   "outputs": [],
   "source": [
    "@functools.partial(jax.jit, static_argnums=(0))\n",
    "def apply_model(cfg, state, user_id, movie_id, rating):\n",
    "  \n",
    "  def loss_fn(params):\n",
    "    logits = MovieLensModel(cfg).apply({'params': params}, user_id, movie_id)\n",
    "    loss = jnp.mean(optax.l2_loss(predictions=logits, targets=rating))\n",
    "    return loss, logits\n",
    "  \n",
    "  grad_fn = jax.value_and_grad(loss_fn, has_aux=True)\n",
    "  (loss, logits), grads = grad_fn(state.params)\n",
    "  mae = jnp.mean(jnp.abs(logits - rating))\n",
    "  return grads, loss, mae"
   ]
  },
  {
   "cell_type": "code",
   "execution_count": 9,
   "id": "d89c60e0",
   "metadata": {},
   "outputs": [],
   "source": [
    "@jax.jit\n",
    "def update_model(state, grads):\n",
    "  return state.apply_gradients(grads=grads)"
   ]
  },
  {
   "cell_type": "code",
   "execution_count": 10,
   "id": "5ec431f5",
   "metadata": {},
   "outputs": [],
   "source": [
    "def train_epoch(cfg, state, train_df, rng):\n",
    "  \"\"\"Train for a single epoch.\"\"\"\n",
    "  train_df_size = len(train_df)\n",
    "  steps_per_epoch = train_df_size // cfg.batch_size\n",
    "  \n",
    "  perms = jax.random.permutation(rng, train_df_size)\n",
    "  perms = perms[:steps_per_epoch * cfg.batch_size]  # skip incomplete batch\n",
    "  perms = perms.reshape((steps_per_epoch, cfg.batch_size))\n",
    "  \n",
    "  epoch_loss = []\n",
    "  epoch_mae = []\n",
    "  \n",
    "  for perm in perms:\n",
    "    # x\n",
    "    batch_user_id = train_df.iloc[perm]['userId'].values\n",
    "    batch_movie_id = train_df.iloc[perm]['movieId'].values\n",
    "    # y\n",
    "    batch_rating = train_df.iloc[perm]['y'].values\n",
    "    \n",
    "    grads, loss, mae = apply_model(cfg, state, batch_user_id, batch_movie_id, batch_rating)\n",
    "    state = update_model(state, grads)\n",
    "    epoch_loss.append(loss)\n",
    "    epoch_mae.append(mae)\n",
    "    \n",
    "  train_loss = np.mean(epoch_loss)\n",
    "  train_mae = np.mean(epoch_mae)\n",
    "  return state, train_loss, train_mae"
   ]
  },
  {
   "cell_type": "code",
   "execution_count": 11,
   "id": "42ea9dff",
   "metadata": {},
   "outputs": [],
   "source": [
    "def create_train_state(rng, config):\n",
    "  \"\"\"Creates initial `TrainState`.\"\"\"\n",
    "  model = MovieLensModel(config)\n",
    "  user_id_fake = jnp.zeros((1), jnp.int32)\n",
    "  movie_id_fake = jnp.zeros((1), jnp.int32)\n",
    "  # Pass fake values through our model to initialize the parameters\n",
    "  params = model.init(rng, user_id_fake, movie_id_fake)['params']\n",
    "  \n",
    "  # TODO(joshvarty): Consider other optimizers.\n",
    "  #tx = optax.sgd(config.lr)\n",
    "  tx = optax.adam(config.lr)\n",
    "  return train_state.TrainState.create(\n",
    "      apply_fn=model.apply, params=params, tx=tx)"
   ]
  },
  {
   "cell_type": "code",
   "execution_count": 12,
   "id": "02c9b0cf",
   "metadata": {},
   "outputs": [
    {
     "name": "stdout",
     "output_type": "stream",
     "text": [
      "Success.\n"
     ]
    }
   ],
   "source": [
    "# Check if we can create trainstate\n",
    "config = MovieLensConfig()\n",
    "rng = jax.random.PRNGKey(0)\n",
    "rng, init_rng = jax.random.split(rng)\n",
    "state = create_train_state(init_rng, config)\n",
    "print(\"Success.\")"
   ]
  },
  {
   "cell_type": "code",
   "execution_count": 13,
   "id": "e126ca0d",
   "metadata": {},
   "outputs": [],
   "source": [
    "def train_and_evaluate(config, train_df, test_df):\n",
    "  rng = jax.random.PRNGKey(0)\n",
    "  rng, init_rng = jax.random.split(rng)\n",
    "  state = create_train_state(init_rng, config)\n",
    "  \n",
    "  for epoch in range(1, config.num_epochs + 1):\n",
    "    rng, input_rng = jax.random.split(rng)\n",
    "    state, train_loss, train_mae = train_epoch(config, state, train_df, rng)\n",
    "    \n",
    "    user_id = test_df['userId'].values\n",
    "    movie_id = test_df['movieId'].values\n",
    "    rating = test_df['y'].values\n",
    "    _, test_loss, test_mae = apply_model(config, state, user_id, movie_id, rating)\n",
    "    \n",
    "    print(\n",
    "        'epoch:% 3d, train_loss: %.4f, train_mae: %.4f, test_loss: %.4f, test_mae: %.4f'\n",
    "        % (epoch, train_loss, train_mae, test_loss, test_mae))\n",
    "    \n",
    "  return state"
   ]
  },
  {
   "cell_type": "code",
   "execution_count": 14,
   "id": "5d75ddf1",
   "metadata": {},
   "outputs": [
    {
     "data": {
      "text/plain": [
       "FrozenDict({\n",
       "    embedding: DeviceArray([[-0.01368771, -0.00685614,  0.00945372, ...,  0.00268572,\n",
       "                  -0.00731529, -0.01161271],\n",
       "                 [-0.01298709,  0.00838352, -0.00408528, ...,  0.00954333,\n",
       "                   0.00334894,  0.01404892],\n",
       "                 [-0.01307638,  0.01251677,  0.01329136, ..., -0.004022  ,\n",
       "                  -0.0090436 ,  0.0064981 ],\n",
       "                 ...,\n",
       "                 [-0.01188561,  0.00276067, -0.00438368, ...,  0.00160737,\n",
       "                  -0.00121605,  0.01141576],\n",
       "                 [ 0.01489048,  0.00284079, -0.00232035, ..., -0.00124785,\n",
       "                   0.00152713, -0.01334447],\n",
       "                 [-0.01218265,  0.00942387,  0.00938285, ..., -0.00825126,\n",
       "                   0.01407073, -0.00186161]], dtype=float32),\n",
       "})"
      ]
     },
     "execution_count": 14,
     "metadata": {},
     "output_type": "execute_result"
    }
   ],
   "source": [
    "state.params['movie']"
   ]
  },
  {
   "cell_type": "code",
   "execution_count": 15,
   "id": "94683acd",
   "metadata": {},
   "outputs": [
    {
     "data": {
      "text/plain": [
       "FrozenDict({\n",
       "    embedding: DeviceArray([[-1.8625552e-04,  5.9650191e-03,  5.4601341e-04, ...,\n",
       "                  -2.2080580e-03,  4.1289997e-04, -3.9349264e-03],\n",
       "                 [-5.2755969e-03, -4.5083277e-03,  3.6032971e-03, ...,\n",
       "                  -3.0476563e-03,  8.4897282e-04, -6.0522733e-03],\n",
       "                 [ 2.1315611e-03,  5.0859689e-03,  4.6556517e-03, ...,\n",
       "                  -3.5043349e-04, -1.9411424e-03,  4.7205477e-03],\n",
       "                 ...,\n",
       "                 [ 5.1226970e-03, -9.9316821e-06, -6.0135541e-03, ...,\n",
       "                  -4.5624427e-03,  1.9483782e-03,  2.9091886e-03],\n",
       "                 [-5.6149010e-03, -6.0111815e-03,  1.4060760e-03, ...,\n",
       "                   3.7494712e-03,  4.8383907e-03, -8.6835132e-04],\n",
       "                 [ 4.6219588e-03, -5.3815292e-03, -1.6332446e-03, ...,\n",
       "                  -4.1636750e-03,  5.6607621e-03, -4.9878950e-03]],            dtype=float32),\n",
       "})"
      ]
     },
     "execution_count": 15,
     "metadata": {},
     "output_type": "execute_result"
    }
   ],
   "source": [
    "state.params['user']"
   ]
  },
  {
   "cell_type": "code",
   "execution_count": 16,
   "id": "51d9c864",
   "metadata": {},
   "outputs": [
    {
     "data": {
      "text/plain": [
       "FrozenDict({\n",
       "    kernel: DeviceArray([[ 0.34066415, -0.05986798, -0.16192755, -0.36246014,\n",
       "                  -0.20655015, -0.06213647,  0.32437578,  0.1391137 ,\n",
       "                  -0.30785975, -0.24873693,  0.30159897,  0.3001693 ,\n",
       "                   0.0446817 ,  0.330935  , -0.3423905 , -0.04727726,\n",
       "                   0.1855937 ,  0.15858072,  0.30912018, -0.09327415,\n",
       "                  -0.11039475, -0.18706132, -0.21662776,  0.18575686,\n",
       "                   0.03425615,  0.2844513 , -0.26061755,  0.12673508,\n",
       "                  -0.06168669, -0.38502145,  0.08017751, -0.325711  ],\n",
       "                 [ 0.21493879, -0.01516975, -0.30024102,  0.37731612,\n",
       "                   0.07651681, -0.36540842, -0.32441273, -0.38400608,\n",
       "                   0.19698861, -0.22489294,  0.27606323, -0.04067021,\n",
       "                   0.2688869 , -0.1419014 , -0.00400826, -0.03927173,\n",
       "                  -0.2551907 , -0.19325572,  0.14063184,  0.1954472 ,\n",
       "                   0.28022262,  0.00699654, -0.27243087,  0.24493839,\n",
       "                   0.37061533, -0.13154124, -0.05597311,  0.25045592,\n",
       "                  -0.20434685,  0.26032966,  0.2442583 , -0.03414941],\n",
       "                 [ 0.25445485,  0.12655547,  0.24038264,  0.3662309 ,\n",
       "                  -0.05751389, -0.07947998, -0.1012949 ,  0.04272402,\n",
       "                  -0.04184107, -0.09670094, -0.0035159 ,  0.16539451,\n",
       "                  -0.22644202,  0.07160723,  0.10935704, -0.28114945,\n",
       "                  -0.05910202,  0.03099667, -0.07659059,  0.04158843,\n",
       "                  -0.29724738, -0.28874213, -0.0932795 , -0.03544123,\n",
       "                  -0.27532923,  0.12825489, -0.04248089,  0.2946836 ,\n",
       "                   0.03586285,  0.1714502 ,  0.35199425,  0.2616996 ],\n",
       "                 [ 0.01110803,  0.02026678, -0.05772239,  0.11204696,\n",
       "                   0.23548572, -0.01443233,  0.227614  , -0.19208476,\n",
       "                   0.29690388, -0.08604833,  0.11201908, -0.28639948,\n",
       "                   0.3340594 , -0.1786364 , -0.19553447, -0.2509771 ,\n",
       "                  -0.34194764,  0.15814109,  0.02763257, -0.34852985,\n",
       "                  -0.10580032,  0.09667158,  0.05324652, -0.25843856,\n",
       "                  -0.1254076 , -0.07147159, -0.35771048,  0.29015806,\n",
       "                   0.24691951, -0.3539255 ,  0.3507156 ,  0.1705859 ],\n",
       "                 [ 0.19283733, -0.3747106 ,  0.29794437, -0.01119307,\n",
       "                  -0.20917101, -0.17514358,  0.29751858, -0.28676218,\n",
       "                  -0.37466598,  0.28011838, -0.19863252,  0.28547397,\n",
       "                   0.24430872, -0.31859702, -0.36353764,  0.18385588,\n",
       "                  -0.09543802, -0.20884293, -0.13704059, -0.20371008,\n",
       "                  -0.22913001, -0.0409897 ,  0.18996613,  0.07551558,\n",
       "                  -0.2927598 , -0.01955429, -0.03265287,  0.2815095 ,\n",
       "                  -0.2314167 , -0.19617492,  0.31661266,  0.01802848],\n",
       "                 [-0.10376027, -0.07706919,  0.3656027 ,  0.20370214,\n",
       "                  -0.20703909,  0.09429265, -0.13650095, -0.31865197,\n",
       "                   0.33606556,  0.34474376, -0.07740964,  0.06296651,\n",
       "                  -0.19523786,  0.32841757,  0.3810805 ,  0.18613055,\n",
       "                   0.16997766,  0.3660683 , -0.32126147, -0.05113002,\n",
       "                   0.2749788 , -0.37752628,  0.30133653,  0.1880344 ,\n",
       "                   0.0308336 ,  0.00822511, -0.16428496, -0.2515303 ,\n",
       "                   0.34654862, -0.01418366,  0.19211301,  0.23396555],\n",
       "                 [ 0.20262721,  0.11687944, -0.18813458, -0.00381518,\n",
       "                  -0.21637236, -0.19832624,  0.01188423,  0.17546372,\n",
       "                   0.31013212,  0.31983262, -0.11760883,  0.38595694,\n",
       "                  -0.360814  , -0.08027539, -0.30951962,  0.3808696 ,\n",
       "                   0.27256763, -0.07251419, -0.35546795,  0.2998206 ,\n",
       "                  -0.37230837,  0.03323627, -0.0365505 , -0.33883294,\n",
       "                   0.05840302,  0.12371078,  0.24492592,  0.27090377,\n",
       "                  -0.02605081,  0.30094907,  0.25397375,  0.19230194],\n",
       "                 [ 0.18194713, -0.11701315, -0.16283034,  0.23241664,\n",
       "                   0.13187143,  0.2586791 ,  0.1368788 ,  0.12569709,\n",
       "                   0.06264193,  0.04395065,  0.22117297, -0.08614714,\n",
       "                  -0.25752392, -0.36331084,  0.05014384, -0.13402663,\n",
       "                   0.02863242, -0.02050556,  0.19704883, -0.34530446,\n",
       "                   0.24620001, -0.18532379, -0.095454  , -0.0424301 ,\n",
       "                  -0.19605397,  0.24940076,  0.00144714, -0.13365017,\n",
       "                  -0.11663797, -0.28292927, -0.20978239, -0.10227675]],            dtype=float32),\n",
       "    bias: DeviceArray([ 2.4493661e-06,  1.7928717e-07,  1.2671981e-06,\n",
       "                 -1.3611540e-06,  3.2488134e-07, -1.3665596e-06,\n",
       "                  1.5929631e-07,  9.1739741e-07,  5.2065974e-07,\n",
       "                  7.7892906e-07, -1.0038602e-06, -5.8726283e-08,\n",
       "                  3.4847159e-07,  3.1691906e-07, -1.7656936e-07,\n",
       "                 -1.8495077e-06, -5.7534288e-07,  6.0720687e-08,\n",
       "                 -1.6676681e-07, -2.8371284e-07,  5.4889455e-07,\n",
       "                  1.3920611e-06, -3.5178570e-07,  5.1190028e-08,\n",
       "                  7.7154391e-07, -5.8948024e-07,  2.2086674e-06,\n",
       "                 -1.7571914e-06,  3.4452978e-07,  5.4245447e-07,\n",
       "                  4.1364538e-07, -1.3498924e-07], dtype=float32),\n",
       "})"
      ]
     },
     "execution_count": 16,
     "metadata": {},
     "output_type": "execute_result"
    }
   ],
   "source": [
    "state.params['Dense_0']"
   ]
  },
  {
   "cell_type": "code",
   "execution_count": 17,
   "id": "865b7091",
   "metadata": {},
   "outputs": [
    {
     "data": {
      "text/plain": [
       "DeviceArray([[-0.00035244],\n",
       "             [-0.00162394],\n",
       "             [-0.00116191],\n",
       "             ...,\n",
       "             [ 0.00347138],\n",
       "             [ 0.00028476],\n",
       "             [ 0.00134978]], dtype=float32)"
      ]
     },
     "execution_count": 17,
     "metadata": {},
     "output_type": "execute_result"
    }
   ],
   "source": [
    "# Sample output\n",
    "user_id = test_df['userId'].values\n",
    "movie_id = test_df['movieId'].values\n",
    "rating = test_df['y'].values\n",
    "logits = MovieLensModel(config).apply({'params': state.params}, user_id, movie_id)\n",
    "logits"
   ]
  },
  {
   "cell_type": "code",
   "execution_count": null,
   "id": "6883f0af",
   "metadata": {
    "scrolled": false
   },
   "outputs": [
    {
     "name": "stdout",
     "output_type": "stream",
     "text": [
      "epoch:  1, train_loss: 0.5000, train_mae: 0.7993, test_loss: 0.5018, test_mae: 0.8024\n",
      "epoch:  2, train_loss: 0.5000, train_mae: 0.7993, test_loss: 0.5016, test_mae: 0.8023\n",
      "epoch:  3, train_loss: 0.5000, train_mae: 0.7993, test_loss: 0.5017, test_mae: 0.8023\n",
      "epoch:  4, train_loss: 0.5000, train_mae: 0.7993, test_loss: 0.5016, test_mae: 0.8023\n",
      "epoch:  5, train_loss: 0.5000, train_mae: 0.7993, test_loss: 0.5017, test_mae: 0.8023\n",
      "epoch:  6, train_loss: 0.5000, train_mae: 0.7993, test_loss: 0.5017, test_mae: 0.8023\n",
      "epoch:  7, train_loss: 0.5000, train_mae: 0.7993, test_loss: 0.5017, test_mae: 0.8023\n"
     ]
    }
   ],
   "source": [
    "# Hide any GPUs from TensorFlow. Otherwise TF might reserve memory and make\n",
    "# it unavailable to JAX.\n",
    "tf.config.experimental.set_visible_devices([], 'GPU')\n",
    "config = MovieLensConfig()\n",
    "\n",
    "state = train_and_evaluate(config, train_df, test_df)"
   ]
  },
  {
   "cell_type": "code",
   "execution_count": null,
   "id": "d9130a1e",
   "metadata": {},
   "outputs": [],
   "source": [
    "state.params['movie']"
   ]
  },
  {
   "cell_type": "code",
   "execution_count": null,
   "id": "b45f91da",
   "metadata": {},
   "outputs": [],
   "source": [
    "state.params['user']"
   ]
  },
  {
   "cell_type": "code",
   "execution_count": null,
   "id": "c7678050",
   "metadata": {},
   "outputs": [],
   "source": [
    "state.params['Dense_0']"
   ]
  },
  {
   "cell_type": "code",
   "execution_count": 22,
   "id": "efce8b75",
   "metadata": {},
   "outputs": [
    {
     "data": {
      "text/plain": [
       "DeviceArray([[-0.00026448],\n",
       "             [-0.00026448],\n",
       "             [-0.00026448],\n",
       "             ...,\n",
       "             [-0.00026448],\n",
       "             [-0.00026448],\n",
       "             [-0.00026448]], dtype=float32)"
      ]
     },
     "execution_count": 22,
     "metadata": {},
     "output_type": "execute_result"
    }
   ],
   "source": [
    "# Sample output\n",
    "user_id = test_df['userId'].values\n",
    "movie_id = test_df['movieId'].values\n",
    "rating = test_df['y'].values\n",
    "logits = MovieLensModel(config).apply({'params': state.params}, user_id, movie_id)\n",
    "logits"
   ]
  },
  {
   "cell_type": "markdown",
   "id": "7c5cfdbe",
   "metadata": {},
   "source": [
    "## Thoughts\n",
    "\n",
    "It's not working:\n",
    "\n",
    " - Are the ratings balanced? Can we rebalance?\n",
    " - Are the User/Movie embedding updating?\n",
    " - Do we want different LRs for the embeddings vs weights?\n"
   ]
  },
  {
   "cell_type": "markdown",
   "id": "98420ca2",
   "metadata": {},
   "source": [
    "###  What is the best train/test loss we've seen? "
   ]
  },
  {
   "cell_type": "code",
   "execution_count": 18,
   "id": "42ebdb79",
   "metadata": {},
   "outputs": [],
   "source": [
    "# train loss: 0.5051\n",
    "# train mae:  0.7994\n",
    "# test loss:  0.5174\n",
    "# test mae:   0.8102\n",
    "@struct.dataclass\n",
    "class MovieLensConfig:\n",
    "  \"\"\"Global hyperparameters for our MovieLens Model\"\"\"\n",
    "  users_size: int = n_users   # 138,493\n",
    "  movies_size: int = n_movies # 26,744\n",
    "  emb_dim: int = 8\n",
    "  dense_size_0: int = 32\n",
    "  dense_size_1: int = 4\n",
    "  out_size: int = 1\n",
    "  num_epochs: int = 40\n",
    "  batch_size: int = 8192\n",
    "  lr: float = 0.000015\n",
    "  momentum: float = 0.1\n",
    "    \n",
    "    \n",
    "# train loss: 0.5010\n",
    "# test loss:  0.5134\n",
    "@struct.dataclass\n",
    "class MovieLensConfig:\n",
    "  \"\"\"Global hyperparameters for our MovieLens Model\"\"\"\n",
    "  users_size: int = n_users   # 138,493\n",
    "  movies_size: int = n_movies # 26,744\n",
    "  emb_dim: int = 8\n",
    "  dense_size_0: int = 32\n",
    "  dense_size_1: int = 4\n",
    "  out_size: int = 1\n",
    "  num_epochs: int = 40\n",
    "  batch_size: int = 8192\n",
    "  lr: float = 0.00015\n",
    "  momentum: float = 0.1\n",
    "    \n",
    "    \n",
    "# train loss: 0.5000\n",
    "# test_loss:  0.5125\n",
    "@struct.dataclass\n",
    "class MovieLensConfig:\n",
    "  \"\"\"Global hyperparameters for our MovieLens Model\"\"\"\n",
    "  users_size: int = n_users   # 138,493\n",
    "  movies_size: int = n_movies # 26,744\n",
    "  emb_dim: int = 8\n",
    "  dense_size_0: int = 32\n",
    "  dense_size_1: int = 4\n",
    "  out_size: int = 1\n",
    "  num_epochs: int = 40\n",
    "  batch_size: int = 8192\n",
    "  lr: float = 0.0015\n",
    "  momentum: float = 0.1\n"
   ]
  },
  {
   "cell_type": "markdown",
   "id": "edaa6b61",
   "metadata": {},
   "source": [
    "## TODO: Is this working?\n",
    "\n",
    "- Add a metric. Maybe Mean Absolute Error?\n",
    "- Compare MAE from predicting mean to MAE from our model.\n",
    "- Look at a user's ratings compared to the predicted ratings? Are they reasonable?\n",
    "- Find movies that are similar to one another."
   ]
  },
  {
   "cell_type": "code",
   "execution_count": null,
   "id": "7324e5b1",
   "metadata": {},
   "outputs": [],
   "source": []
  }
 ],
 "metadata": {
  "kernelspec": {
   "display_name": "Python 3 (ipykernel)",
   "language": "python",
   "name": "python3"
  },
  "language_info": {
   "codemirror_mode": {
    "name": "ipython",
    "version": 3
   },
   "file_extension": ".py",
   "mimetype": "text/x-python",
   "name": "python",
   "nbconvert_exporter": "python",
   "pygments_lexer": "ipython3",
   "version": "3.8.10"
  }
 },
 "nbformat": 4,
 "nbformat_minor": 5
}
