{
 "cells": [
  {
   "cell_type": "markdown",
   "id": "c5ac5898",
   "metadata": {},
   "source": [
    "# Jax Embedding Tutorial"
   ]
  },
  {
   "cell_type": "markdown",
   "id": "ba9da797",
   "metadata": {},
   "source": [
    "Now that we can successfully train a neural network that uses embeddings, let's make a version that is exclusively Jax (no Keras weights) and use it as the skeleton of a future tutorial/video."
   ]
  },
  {
   "cell_type": "code",
   "execution_count": 2,
   "id": "a00e4d4e",
   "metadata": {},
   "outputs": [
    {
     "data": {
      "text/plain": [
       "'2.7.0'"
      ]
     },
     "execution_count": 2,
     "metadata": {},
     "output_type": "execute_result"
    }
   ],
   "source": [
    "import numpy as np\n",
    "import pandas as pd\n",
    "from matplotlib import pyplot as plt\n",
    "import os\n",
    "import random\n",
    "\n",
    "import tensorflow as tf\n",
    "import jax\n",
    "import jax.numpy as jnp\n",
    "import functools\n",
    "import optax\n",
    "\n",
    "from flax.core import frozen_dict\n",
    "from flax import struct\n",
    "from flax import linen as nn\n",
    "from flax.training import train_state\n",
    "\n",
    "from matplotlib import pyplot as plt\n",
    "\n",
    "tf.__version__"
   ]
  },
  {
   "cell_type": "code",
   "execution_count": 3,
   "id": "745421ca",
   "metadata": {},
   "outputs": [],
   "source": [
    "ratings_df = pd.read_csv(\"data/movie-lens/rating.csv\", usecols=['userId', 'movieId', 'rating', 'y'])\n",
    "movies_df = pd.read_csv(\"data/movie-lens/movie.csv\", usecols=['movieId', 'title', 'year'])\n",
    "df = ratings_df.merge(movies_df, on='movieId').sort_values(by='userId')"
   ]
  },
  {
   "cell_type": "code",
   "execution_count": 4,
   "id": "596fa430",
   "metadata": {},
   "outputs": [
    {
     "name": "stdout",
     "output_type": "stream",
     "text": [
      "138,493 distinct users rated 26,744 different movies (total ratings = 20,000,263)\n"
     ]
    }
   ],
   "source": [
    "# Shuffle\n",
    "df = df.sample(frac=1, random_state=1) \n",
    "# First 50,000 for test\n",
    "test_df = df.iloc[:50000]\n",
    "# Rest for train\n",
    "train_df = df.iloc[50000:]\n",
    "\n",
    "n_movies = len(df.movieId.unique())\n",
    "n_users = len(df.userId.unique())\n",
    "print(\n",
    "    \"{1:,} distinct users rated {0:,} different movies (total ratings = {2:,})\".format(\n",
    "        n_movies, n_users, len(df),\n",
    "    )\n",
    ")"
   ]
  },
  {
   "cell_type": "code",
   "execution_count": 18,
   "id": "0935eae6",
   "metadata": {},
   "outputs": [],
   "source": [
    "@struct.dataclass\n",
    "class MovieLensConfig:\n",
    "  \"\"\"Global hyperparameters for our MovieLens Model\"\"\"\n",
    "  users_size: int = n_users + 1   # 138,494 (+1 because we are 1-indexed)\n",
    "  movies_size: int = n_movies + 0 # 26,744  (+0 because we are 0-indexed)\n",
    "  emb_dim: int = 8\n",
    "  dense_size_0: int = 32\n",
    "  dense_size_1: int = 4\n",
    "  out_size: int = 1\n",
    "  num_epochs: int = 20\n",
    "  batch_size: int = 5000\n",
    "  lr: float = 0.005\n",
    "  momentum: float = 0.1"
   ]
  },
  {
   "cell_type": "code",
   "execution_count": 19,
   "id": "56bcbc76",
   "metadata": {},
   "outputs": [],
   "source": [
    "class MovieLensModel(nn.Module):\n",
    "  \"\"\"A simple embedding model.\"\"\"\n",
    "\n",
    "  config: MovieLensConfig\n",
    "\n",
    "  @nn.compact\n",
    "  def __call__(self, user_id, movie_id):\n",
    "    \n",
    "    cfg = self.config\n",
    "    \n",
    "    user_id = user_id.astype('int32')\n",
    "    user_emb = nn.Embed(num_embeddings=cfg.users_size, embedding_init=nn.initializers.xavier_uniform(), features=cfg.emb_dim, name='user')(user_id)\n",
    "    \n",
    "    movie_id = movie_id.astype('int32')\n",
    "    movie_emb = nn.Embed(num_embeddings=cfg.movies_size, embedding_init=nn.initializers.xavier_uniform(), features=cfg.emb_dim, name='movie')(movie_id)\n",
    "    \n",
    "    x = jnp.concatenate((user_emb, movie_emb), axis=-1)\n",
    "    x = jnp.squeeze(x)\n",
    "        \n",
    "    x = nn.Dense(cfg.dense_size_0, kernel_init=nn.initializers.kaiming_uniform())(x)\n",
    "    x = nn.relu(x)\n",
    "    x = nn.Dense(cfg.dense_size_1, kernel_init=nn.initializers.kaiming_uniform())(x)\n",
    "    x = nn.relu(x)\n",
    "    x = nn.Dense(cfg.out_size, kernel_init=nn.initializers.kaiming_uniform())(x)\n",
    "\n",
    "    return x"
   ]
  },
  {
   "cell_type": "code",
   "execution_count": 20,
   "id": "439f36cf",
   "metadata": {},
   "outputs": [],
   "source": [
    "def create_train_state(rng, config):\n",
    "  \"\"\"Creates initial `TrainState`.\"\"\"\n",
    "  model = MovieLensModel(config)\n",
    "  user_id_fake = jnp.zeros((5,1), jnp.int32)\n",
    "  movie_id_fake = jnp.zeros((5,1), jnp.int32)\n",
    "  # Pass fake values through our model to initialize the parameters\n",
    "  params = model.init(rng, user_id_fake, movie_id_fake)['params']\n",
    "  \n",
    "  # TODO(joshvarty): Consider other optimizers.\n",
    "  tx = optax.adam(config.lr)\n",
    "  return train_state.TrainState.create(\n",
    "      apply_fn=model.apply, params=params, tx=tx)"
   ]
  },
  {
   "cell_type": "code",
   "execution_count": 21,
   "id": "c58eb7f7",
   "metadata": {},
   "outputs": [],
   "source": [
    "@functools.partial(jax.jit, static_argnums=(0))\n",
    "def apply_model(cfg, state, user_id, movie_id, rating):\n",
    "  \n",
    "  def loss_fn(params):\n",
    "    logits = MovieLensModel(cfg).apply({'params': params}, user_id, movie_id)\n",
    "    #loss = jnp.mean(optax.l2_loss(predictions=logits, targets=rating))\n",
    "    loss = jnp.mean(jnp.square(logits - rating))\n",
    "    return loss, logits\n",
    "  \n",
    "  grad_fn = jax.value_and_grad(loss_fn, has_aux=True)\n",
    "  (loss, logits), grads = grad_fn(state.params)\n",
    "  mae = jnp.mean(jnp.abs(logits - rating))\n",
    "  return grads, loss, mae"
   ]
  },
  {
   "cell_type": "code",
   "execution_count": 22,
   "id": "0354a901",
   "metadata": {},
   "outputs": [],
   "source": [
    "@jax.jit\n",
    "def update_model(state, grads):\n",
    "  return state.apply_gradients(grads=grads)"
   ]
  },
  {
   "cell_type": "code",
   "execution_count": 23,
   "id": "aa343b7c",
   "metadata": {},
   "outputs": [],
   "source": [
    "def train_epoch(cfg, state, train_df, rng):\n",
    "  \"\"\"Train for a single epoch.\"\"\"\n",
    "  train_df_size = len(train_df)\n",
    "  steps_per_epoch = train_df_size // cfg.batch_size\n",
    "  \n",
    "  perms = jax.random.permutation(rng, train_df_size)\n",
    "  perms = perms[:steps_per_epoch * cfg.batch_size]  # skip incomplete batch\n",
    "  perms = perms.reshape((steps_per_epoch, cfg.batch_size))\n",
    "  \n",
    "  epoch_loss = []\n",
    "  epoch_mae = []  \n",
    "\n",
    "  for perm in perms:\n",
    "    # x\n",
    "    batch_user_id = np.expand_dims(train_df.iloc[perm]['userId'].values, 1)\n",
    "    batch_movie_id = np.expand_dims(train_df.iloc[perm]['movieId'].values, 1)\n",
    "    # y\n",
    "    batch_rating = np.expand_dims(train_df.iloc[perm]['y'].values, 1)\n",
    "    \n",
    "\n",
    "    grads, loss, mae = apply_model(cfg, state, batch_user_id, batch_movie_id, batch_rating)\n",
    "    state = update_model(state, grads)\n",
    "    \n",
    "    user_emb_new = state.params['user']['embedding']\n",
    "    movie_emb_new = state.params['movie']['embedding']\n",
    "    \n",
    "    epoch_loss.append(loss)\n",
    "    epoch_mae.append(mae)\n",
    "    \n",
    "  train_loss = np.mean(epoch_loss)\n",
    "  train_mae = np.mean(epoch_mae)\n",
    "  return state, train_loss, train_mae"
   ]
  },
  {
   "cell_type": "code",
   "execution_count": 24,
   "id": "53241a41",
   "metadata": {},
   "outputs": [],
   "source": [
    "def train_and_evaluate(config, state, train_df, test_df):\n",
    "  rng = jax.random.PRNGKey(0)\n",
    "  rng, init_rng = jax.random.split(rng)\n",
    "  \n",
    "  train_maes = []\n",
    "  test_maes = []\n",
    "  \n",
    "  for epoch in range(1, config.num_epochs + 1):\n",
    "    rng, input_rng = jax.random.split(rng)\n",
    "    state, train_loss, train_mae = train_epoch(config, state, train_df, rng)\n",
    "    \n",
    "    user_id = np.expand_dims(test_df['userId'].values, 1)\n",
    "    movie_id = np.expand_dims(test_df['movieId'].values, 1)\n",
    "    rating = np.expand_dims(test_df['y'].values, 1)\n",
    "    _, test_loss, test_mae = apply_model(config, state, user_id, movie_id, rating)\n",
    "    \n",
    "    train_maes.append(train_mae)\n",
    "    test_maes.append(test_mae)\n",
    "    \n",
    "    print(\n",
    "        'epoch:% 3d, train_loss: %.4f, train_mae: %.4f, test_loss: %.4f, test_mae: %.4f'\n",
    "        % (epoch, train_loss, train_mae, test_loss, test_mae))\n",
    "    \n",
    "  return state, train_maes, test_maes"
   ]
  },
  {
   "cell_type": "code",
   "execution_count": 25,
   "id": "75f778b6",
   "metadata": {},
   "outputs": [
    {
     "name": "stdout",
     "output_type": "stream",
     "text": [
      "epoch:  1, train_loss: 0.7189, train_mae: 0.6502, test_loss: 0.6857, test_mae: 0.6324\n",
      "epoch:  2, train_loss: 0.6562, train_mae: 0.6196, test_loss: 0.6620, test_mae: 0.6212\n",
      "epoch:  3, train_loss: 0.6289, train_mae: 0.6061, test_loss: 0.6519, test_mae: 0.6159\n",
      "epoch:  4, train_loss: 0.6147, train_mae: 0.5988, test_loss: 0.6470, test_mae: 0.6141\n",
      "epoch:  5, train_loss: 0.6053, train_mae: 0.5940, test_loss: 0.6450, test_mae: 0.6118\n",
      "epoch:  6, train_loss: 0.5983, train_mae: 0.5904, test_loss: 0.6431, test_mae: 0.6123\n",
      "epoch:  7, train_loss: 0.5929, train_mae: 0.5875, test_loss: 0.6433, test_mae: 0.6104\n",
      "epoch:  8, train_loss: 0.5884, train_mae: 0.5851, test_loss: 0.6414, test_mae: 0.6103\n",
      "epoch:  9, train_loss: 0.5847, train_mae: 0.5831, test_loss: 0.6419, test_mae: 0.6109\n",
      "epoch: 10, train_loss: 0.5815, train_mae: 0.5815, test_loss: 0.6393, test_mae: 0.6095\n",
      "epoch: 11, train_loss: 0.5790, train_mae: 0.5801, test_loss: 0.6411, test_mae: 0.6084\n",
      "epoch: 12, train_loss: 0.5767, train_mae: 0.5789, test_loss: 0.6419, test_mae: 0.6107\n",
      "epoch: 13, train_loss: 0.5746, train_mae: 0.5778, test_loss: 0.6378, test_mae: 0.6097\n",
      "epoch: 14, train_loss: 0.5730, train_mae: 0.5769, test_loss: 0.6403, test_mae: 0.6093\n",
      "epoch: 15, train_loss: 0.5714, train_mae: 0.5760, test_loss: 0.6373, test_mae: 0.6086\n",
      "epoch: 16, train_loss: 0.5700, train_mae: 0.5752, test_loss: 0.6392, test_mae: 0.6083\n",
      "epoch: 17, train_loss: 0.5687, train_mae: 0.5746, test_loss: 0.6395, test_mae: 0.6080\n",
      "epoch: 18, train_loss: 0.5675, train_mae: 0.5739, test_loss: 0.6409, test_mae: 0.6069\n",
      "epoch: 19, train_loss: 0.5665, train_mae: 0.5734, test_loss: 0.6397, test_mae: 0.6087\n",
      "epoch: 20, train_loss: 0.5655, train_mae: 0.5728, test_loss: 0.6430, test_mae: 0.6082\n"
     ]
    }
   ],
   "source": [
    "# Check if we can create trainstate\n",
    "config = MovieLensConfig()\n",
    "rng = jax.random.PRNGKey(0)\n",
    "rng, init_rng = jax.random.split(rng)\n",
    "state = create_train_state(init_rng, config)\n",
    "# Train Jax model with Keras weights.\n",
    "state, train_maes, test_maes = train_and_evaluate(config, state, train_df, test_df)"
   ]
  },
  {
   "cell_type": "code",
   "execution_count": 26,
   "id": "14ec308d",
   "metadata": {},
   "outputs": [
    {
     "data": {
      "image/png": "[encoded data removed]",
      "text/plain": [
       "<Figure size 1080x432 with 1 Axes>"
      ]
     },
     "metadata": {
      "needs_background": "light"
     },
     "output_type": "display_data"
    }
   ],
   "source": [
    "epoch_iota = np.arange(len(train_maes))\n",
    "\n",
    "fig, ax = plt.subplots(figsize=(15, 6))\n",
    "ax.plot(epoch_iota, test_maes, label='Validation MAE')\n",
    "ax.plot(epoch_iota, train_maes, label='Training MAE')\n",
    "ax.set_xlabel('Epoch')\n",
    "ax.set_ylabel('Mean Absolute Error')\n",
    "ax.set_xlim(left=0, right=epoch_iota[-1])\n",
    "baseline_mae = 0.73\n",
    "ax.axhline(baseline_mae, ls='--', label='Baseline', color='#002255', alpha=.5)\n",
    "ax.grid()\n",
    "fig.legend();"
   ]
  },
  {
   "cell_type": "code",
   "execution_count": null,
   "id": "704bb7c2",
   "metadata": {},
   "outputs": [],
   "source": []
  }
 ],
 "metadata": {
  "kernelspec": {
   "display_name": "Python 3 (ipykernel)",
   "language": "python",
   "name": "python3"
  },
  "language_info": {
   "codemirror_mode": {
    "name": "ipython",
    "version": 3
   },
   "file_extension": ".py",
   "mimetype": "text/x-python",
   "name": "python",
   "nbconvert_exporter": "python",
   "pygments_lexer": "ipython3",
   "version": "3.8.10"
  }
 },
 "nbformat": 4,
 "nbformat_minor": 5
}
