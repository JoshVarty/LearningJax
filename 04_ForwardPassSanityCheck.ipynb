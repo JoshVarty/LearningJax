{
 "cells": [
  {
   "cell_type": "markdown",
   "id": "74d41e6a",
   "metadata": {},
   "source": [
    "# [Foward Pass Sanity Check](https://github.com/JoshVarty/LearningJax/issues/1)\n",
    "\n",
    "My Jax network is completely broken and I don't know why. When I run (what appears to be) the same network in Keras, everything looks correct and I see that the network is learning.\n",
    "\n",
    "Let's make the weights identical and then run the forward pass. Do we get the same result?\n"
   ]
  },
  {
   "cell_type": "markdown",
   "id": "0f727b3a",
   "metadata": {},
   "source": [
    "### Print the default JAX weights"
   ]
  },
  {
   "cell_type": "code",
   "execution_count": 84,
   "id": "7eb17ccb",
   "metadata": {},
   "outputs": [],
   "source": [
    "import numpy as np\n",
    "import pandas as pd\n",
    "from matplotlib import pyplot as plt\n",
    "import os\n",
    "import random\n",
    "\n",
    "import tensorflow as tf\n",
    "import jax\n",
    "import jax.numpy as jnp\n",
    "import functools\n",
    "import optax\n",
    "\n",
    "from flax.core import frozen_dict\n",
    "from flax import struct\n",
    "from flax import linen as nn\n",
    "from flax.training import train_state"
   ]
  },
  {
   "cell_type": "code",
   "execution_count": 2,
   "id": "8d7f0712",
   "metadata": {},
   "outputs": [],
   "source": [
    "ratings_df = pd.read_csv(\"data/movie-lens/rating.csv\", usecols=['userId', 'movieId', 'rating', 'y'])\n",
    "movies_df = pd.read_csv(\"data/movie-lens/movie.csv\", usecols=['movieId', 'title', 'year'])\n",
    "df = ratings_df.merge(movies_df, on='movieId').sort_values(by='userId')"
   ]
  },
  {
   "cell_type": "code",
   "execution_count": 3,
   "id": "92a0077e",
   "metadata": {},
   "outputs": [],
   "source": [
    "# Shuffle\n",
    "# df = df.sample(frac=1, random_state=1) \n",
    "# First 50,000 for test\n",
    "test_df = df.iloc[:50000]\n",
    "# Rest for train\n",
    "train_df = df.iloc[50000:]"
   ]
  },
  {
   "cell_type": "code",
   "execution_count": 4,
   "id": "aafeb0ee",
   "metadata": {},
   "outputs": [
    {
     "name": "stdout",
     "output_type": "stream",
     "text": [
      "138,493 distinct users rated 26,744 different movies (total ratings = 20,000,263)\n"
     ]
    }
   ],
   "source": [
    "n_movies = len(df.movieId.unique())\n",
    "n_users = len(df.userId.unique())\n",
    "print(\n",
    "    \"{1:,} distinct users rated {0:,} different movies (total ratings = {2:,})\".format(\n",
    "        n_movies, n_users, len(df),\n",
    "    )\n",
    ")"
   ]
  },
  {
   "cell_type": "code",
   "execution_count": 5,
   "id": "7708e63b",
   "metadata": {},
   "outputs": [],
   "source": [
    "@struct.dataclass\n",
    "class MovieLensConfig:\n",
    "  \"\"\"Global hyperparameters for our MovieLens Model\"\"\"\n",
    "  users_size: int = n_users + 1   # 138,494 (+1 because we are 1-indexed)\n",
    "  movies_size: int = n_movies     # 26,744  (+0 because we are 0-indexed)\n",
    "  emb_dim: int = 8\n",
    "  dense_size_0: int = 32\n",
    "  dense_size_1: int = 4\n",
    "  out_size: int = 1\n",
    "  num_epochs: int = 10\n",
    "  batch_size: int = 5000\n",
    "  lr: float = 0.01\n",
    "  momentum: float = 0.1"
   ]
  },
  {
   "cell_type": "code",
   "execution_count": 6,
   "id": "a9459d5e",
   "metadata": {},
   "outputs": [],
   "source": [
    "class MovieLensModel(nn.Module):\n",
    "  \"\"\"A simple embedding model.\"\"\"\n",
    "\n",
    "  config: MovieLensConfig\n",
    "\n",
    "  @nn.compact\n",
    "  def __call__(self, user_id, movie_id):\n",
    "    \n",
    "    cfg = self.config\n",
    "    \n",
    "    user_id = user_id.astype('int32')\n",
    "    user_emb = nn.Embed(num_embeddings=cfg.users_size, embedding_init=nn.initializers.xavier_uniform(), features=cfg.emb_dim, name='user')(user_id)\n",
    "    \n",
    "    movie_id = movie_id.astype('int32')\n",
    "    movie_emb = nn.Embed(num_embeddings=cfg.movies_size, embedding_init=nn.initializers.xavier_uniform(), features=cfg.emb_dim, name='movie')(movie_id)\n",
    "    \n",
    "    x = jnp.concatenate((user_emb, movie_emb), axis=-1)\n",
    "    \n",
    "    # TODO(joshvarty): Consider initializing with bias of zero.\n",
    "    x = nn.Dense(cfg.dense_size_0, kernel_init=nn.initializers.kaiming_uniform())(x)\n",
    "    x = nn.relu(x)\n",
    "    x = nn.Dense(cfg.dense_size_1, kernel_init=nn.initializers.kaiming_uniform())(x)\n",
    "    x = nn.relu(x)\n",
    "    x = nn.Dense(cfg.out_size, kernel_init=nn.initializers.kaiming_uniform())(x)\n",
    "\n",
    "    return x"
   ]
  },
  {
   "cell_type": "code",
   "execution_count": 7,
   "id": "6d1c5467",
   "metadata": {},
   "outputs": [],
   "source": [
    "def create_train_state(rng, config):\n",
    "  \"\"\"Creates initial `TrainState`.\"\"\"\n",
    "  model = MovieLensModel(config)\n",
    "  user_id_fake = jnp.zeros((1), jnp.int32)\n",
    "  movie_id_fake = jnp.zeros((1), jnp.int32)\n",
    "  # Pass fake values through our model to initialize the parameters\n",
    "  params = model.init(rng, user_id_fake, movie_id_fake)['params']\n",
    "  \n",
    "  # TODO(joshvarty): Consider other optimizers.\n",
    "  #tx = optax.sgd(config.lr)\n",
    "  tx = optax.sgd(config.lr)\n",
    "  return train_state.TrainState.create(\n",
    "      apply_fn=model.apply, params=params, tx=tx)"
   ]
  },
  {
   "cell_type": "code",
   "execution_count": 8,
   "id": "f78cd772",
   "metadata": {},
   "outputs": [
    {
     "name": "stdout",
     "output_type": "stream",
     "text": [
      "Success.\n"
     ]
    }
   ],
   "source": [
    "# Check if we can create trainstate\n",
    "config = MovieLensConfig()\n",
    "rng = jax.random.PRNGKey(0)\n",
    "rng, init_rng = jax.random.split(rng)\n",
    "state = create_train_state(init_rng, config)\n",
    "print(\"Success.\")"
   ]
  },
  {
   "cell_type": "code",
   "execution_count": 9,
   "id": "2fa537ab",
   "metadata": {},
   "outputs": [
    {
     "data": {
      "text/plain": [
       "FrozenDict({\n",
       "    user: {\n",
       "        embedding: DeviceArray([[-1.8625552e-04,  5.9650191e-03,  5.4601341e-04, ...,\n",
       "                      -2.2080580e-03,  4.1289997e-04, -3.9349264e-03],\n",
       "                     [-5.2755969e-03, -4.5083277e-03,  3.6032971e-03, ...,\n",
       "                      -3.0476563e-03,  8.4897282e-04, -6.0522733e-03],\n",
       "                     [ 2.1315611e-03,  5.0859689e-03,  4.6556517e-03, ...,\n",
       "                      -3.5043349e-04, -1.9411424e-03,  4.7205477e-03],\n",
       "                     ...,\n",
       "                     [ 5.1226970e-03, -9.9316821e-06, -6.0135541e-03, ...,\n",
       "                      -4.5624427e-03,  1.9483782e-03,  2.9091886e-03],\n",
       "                     [-5.6149010e-03, -6.0111815e-03,  1.4060760e-03, ...,\n",
       "                       3.7494712e-03,  4.8383907e-03, -8.6835132e-04],\n",
       "                     [ 4.6219588e-03, -5.3815292e-03, -1.6332446e-03, ...,\n",
       "                      -4.1636750e-03,  5.6607621e-03, -4.9878950e-03]],            dtype=float32),\n",
       "    },\n",
       "    movie: {\n",
       "        embedding: DeviceArray([[-0.01383389,  0.00215334, -0.0145545 , ...,  0.01098047,\n",
       "                      -0.00246068, -0.00063077],\n",
       "                     [-0.00099829,  0.00995026, -0.00952408, ...,  0.01088364,\n",
       "                      -0.01100037, -0.00436609],\n",
       "                     [-0.00910459,  0.00875835,  0.00228484, ..., -0.00286148,\n",
       "                      -0.0085588 , -0.00062293],\n",
       "                     ...,\n",
       "                     [ 0.00443803, -0.00833443,  0.00442862, ...,  0.01444461,\n",
       "                       0.00266668, -0.01232336],\n",
       "                     [-0.00951243, -0.01429235, -0.01367474, ...,  0.00122162,\n",
       "                       0.00925144,  0.00153137],\n",
       "                     [ 0.01426977, -0.0011701 , -0.01323187, ...,  0.00107165,\n",
       "                       0.00081029,  0.01139964]], dtype=float32),\n",
       "    },\n",
       "    Dense_0: {\n",
       "        kernel: DeviceArray([[-0.23310557,  0.4145367 ,  0.32547674, -0.00497425,\n",
       "                      -0.44627792,  0.51627547,  0.52086496, -0.01651826,\n",
       "                      -0.01088496,  0.45410007,  0.05976768,  0.16411267,\n",
       "                      -0.17919004,  0.27834207,  0.01817858, -0.40108287,\n",
       "                       0.48528206, -0.5079375 , -0.14903179, -0.48905736,\n",
       "                       0.3410556 , -0.34763077, -0.40053406, -0.12039049,\n",
       "                       0.44004965, -0.5283112 , -0.39683616,  0.430678  ,\n",
       "                       0.6088738 ,  0.30266392,  0.52814955,  0.1434369 ],\n",
       "                     [ 0.5211196 , -0.4711934 , -0.0419487 ,  0.00858164,\n",
       "                      -0.20622708,  0.3531366 , -0.42723456, -0.12650691,\n",
       "                      -0.36615083, -0.45366454,  0.26891127, -0.23993169,\n",
       "                      -0.12200278,  0.27961826,  0.09351099,  0.13492547,\n",
       "                       0.3208695 ,  0.29557323,  0.2691865 ,  0.01441701,\n",
       "                       0.01424166,  0.1056333 ,  0.04064243, -0.18832824,\n",
       "                       0.46644825,  0.5390919 , -0.24290179, -0.1558423 ,\n",
       "                      -0.43329155,  0.5000248 , -0.13540041,  0.61177903],\n",
       "                     [-0.2474087 ,  0.23730382, -0.36268258, -0.05404006,\n",
       "                       0.16570626, -0.27207017, -0.31963214, -0.48469034,\n",
       "                      -0.31599936,  0.24450094,  0.46401644, -0.13426423,\n",
       "                      -0.09102473,  0.49757096, -0.53024656,  0.56422186,\n",
       "                      -0.04920086,  0.3940303 ,  0.15827088,  0.16682638,\n",
       "                      -0.5134448 , -0.43177536,  0.0432211 ,  0.20328341,\n",
       "                      -0.5141237 ,  0.27911428, -0.25916323, -0.24520262,\n",
       "                       0.2801719 ,  0.5091166 ,  0.05202102,  0.17820512],\n",
       "                     [-0.07861334,  0.556141  , -0.5679519 ,  0.17945445,\n",
       "                      -0.4962038 ,  0.21781708, -0.00477423,  0.44809505,\n",
       "                       0.3033678 ,  0.17662159, -0.59710145, -0.06290992,\n",
       "                      -0.04024604,  0.35157117, -0.5207654 ,  0.578328  ,\n",
       "                       0.07269811,  0.03772898, -0.34054622,  0.29421163,\n",
       "                      -0.026604  , -0.31080392,  0.34296852,  0.4438467 ,\n",
       "                       0.05066744, -0.34317437,  0.5312933 ,  0.2617784 ,\n",
       "                       0.2392925 , -0.5477712 , -0.30632082, -0.36038366],\n",
       "                     [-0.08382718,  0.29312846, -0.14597058,  0.5014828 ,\n",
       "                      -0.12107188, -0.06316877, -0.09825017,  0.57584834,\n",
       "                       0.07660086,  0.11199018, -0.30059904, -0.06919453,\n",
       "                       0.38755953, -0.08279846,  0.28276867,  0.49655756,\n",
       "                      -0.26644665,  0.39988276, -0.4425511 ,  0.05196481,\n",
       "                       0.49780443,  0.19526036,  0.56118196,  0.5916765 ,\n",
       "                      -0.3947673 ,  0.26889798, -0.5725711 , -0.3965021 ,\n",
       "                       0.21044666, -0.15466845,  0.31975567, -0.17058504],\n",
       "                     [ 0.0588851 , -0.10985579,  0.30483702, -0.24348345,\n",
       "                       0.32636133,  0.38001874,  0.07406906, -0.55447936,\n",
       "                      -0.59397626, -0.3960901 , -0.31655023,  0.1170513 ,\n",
       "                      -0.10336298,  0.4747773 ,  0.10008921, -0.54459465,\n",
       "                      -0.5261552 ,  0.5963705 ,  0.32527786,  0.47773382,\n",
       "                       0.6095435 ,  0.38839278,  0.480057  ,  0.01964764,\n",
       "                       0.3843586 , -0.25217915,  0.39233276, -0.43530303,\n",
       "                       0.05282446,  0.14013186,  0.5123347 , -0.3475985 ],\n",
       "                     [-0.24976778,  0.38998097, -0.30948627, -0.33096665,\n",
       "                       0.18802324,  0.50160205,  0.44027406, -0.21757792,\n",
       "                       0.6021446 , -0.48485544,  0.4781956 ,  0.43003982,\n",
       "                      -0.31269902, -0.5737895 ,  0.0573445 ,  0.60784405,\n",
       "                      -0.5239682 , -0.2353277 , -0.41749033,  0.39346573,\n",
       "                       0.20471933,  0.3800808 , -0.35578477, -0.33190104,\n",
       "                      -0.05019017, -0.49512836, -0.41500026, -0.20420279,\n",
       "                       0.56889683, -0.28435192, -0.58746624, -0.16325769],\n",
       "                     [ 0.45100266,  0.15378208,  0.00430528,  0.47119415,\n",
       "                      -0.43049097,  0.06496269,  0.40755174,  0.29646268,\n",
       "                      -0.5832709 ,  0.45022944, -0.2945289 , -0.38992518,\n",
       "                       0.4177137 , -0.54770344,  0.08390938,  0.03998587,\n",
       "                       0.4277352 ,  0.20499761,  0.1482907 ,  0.31236643,\n",
       "                       0.40891933, -0.03576556,  0.3640515 , -0.16337872,\n",
       "                      -0.09135689, -0.35167778, -0.34507924, -0.33229905,\n",
       "                       0.0422061 ,  0.06457797,  0.45485926, -0.53595436],\n",
       "                     [-0.15983747, -0.5948054 , -0.31325877, -0.09872731,\n",
       "                       0.3912773 , -0.22267905,  0.12545234,  0.40302804,\n",
       "                      -0.15615839, -0.02980799, -0.4587927 ,  0.40712833,\n",
       "                      -0.14247927, -0.07554191, -0.5052845 ,  0.23752531,\n",
       "                      -0.06559794, -0.27542293, -0.320812  , -0.38022196,\n",
       "                      -0.25929654,  0.36496443, -0.34331265, -0.4281313 ,\n",
       "                       0.29759026, -0.17111503, -0.5230464 , -0.0921596 ,\n",
       "                       0.22242355, -0.5322081 , -0.54851216, -0.39673162],\n",
       "                     [ 0.10689314, -0.45338482,  0.533762  ,  0.36080122,\n",
       "                       0.44872868, -0.37085658,  0.39975822,  0.4695058 ,\n",
       "                       0.13564979, -0.26056588,  0.29775187, -0.1581075 ,\n",
       "                       0.28260544, -0.29462218,  0.20771147, -0.466836  ,\n",
       "                      -0.2415853 , -0.39911187, -0.24640508,  0.37852952,\n",
       "                      -0.12264708, -0.3061278 , -0.09543367,  0.38857046,\n",
       "                       0.00522464, -0.5449937 ,  0.14575684,  0.3660523 ,\n",
       "                      -0.4835038 ,  0.3344289 ,  0.24382919,  0.24392556],\n",
       "                     [ 0.03317653,  0.08159336, -0.3543776 ,  0.51661867,\n",
       "                      -0.3365855 , -0.5111511 , -0.0525913 , -0.5481032 ,\n",
       "                       0.36474866, -0.02877358, -0.5699885 , -0.21793038,\n",
       "                      -0.318358  ,  0.41400644, -0.3230413 , -0.4652592 ,\n",
       "                       0.24964806, -0.35774192,  0.40256625,  0.48670632,\n",
       "                       0.19963382,  0.5901108 , -0.5334761 , -0.5275254 ,\n",
       "                      -0.1733068 , -0.5631473 , -0.23394054, -0.07008396,\n",
       "                      -0.3711597 , -0.5152921 , -0.51660496,  0.3948171 ],\n",
       "                     [ 0.08870069,  0.31386396,  0.45229372, -0.43934053,\n",
       "                       0.4261787 ,  0.3521146 ,  0.5925966 ,  0.3245794 ,\n",
       "                       0.2941883 ,  0.60978717,  0.08098439, -0.6077348 ,\n",
       "                      -0.30347642, -0.22409701,  0.03213087,  0.19487727,\n",
       "                       0.24864824,  0.21654248, -0.16791424,  0.06675412,\n",
       "                      -0.20163229,  0.10012133, -0.47243237,  0.31333587,\n",
       "                       0.46946388, -0.4440387 ,  0.2645238 ,  0.2248095 ,\n",
       "                       0.44211352, -0.02324248, -0.5423182 ,  0.44731978],\n",
       "                     [-0.26701385, -0.34222683, -0.23760678,  0.19355084,\n",
       "                       0.6072901 ,  0.17613979,  0.50129294, -0.59838533,\n",
       "                       0.181729  ,  0.47458956,  0.48567525,  0.00165842,\n",
       "                      -0.57695913,  0.02841208,  0.58235854,  0.08570285,\n",
       "                      -0.50057375, -0.103848  ,  0.61180127, -0.41081938,\n",
       "                      -0.02074776,  0.06265003, -0.25319633,  0.43391046,\n",
       "                      -0.19447225,  0.47596458,  0.33272436,  0.43788826,\n",
       "                      -0.10278394,  0.3788947 ,  0.53193784, -0.25673962],\n",
       "                     [-0.30145591, -0.42893958, -0.58397347,  0.06065318,\n",
       "                       0.2666049 , -0.54551536, -0.3496529 , -0.15801844,\n",
       "                       0.02026347,  0.33948871,  0.09568363, -0.31235197,\n",
       "                       0.2312464 ,  0.5272172 , -0.31555158, -0.47824788,\n",
       "                       0.13290773, -0.10449303,  0.29614556,  0.30802843,\n",
       "                       0.39042658, -0.01407435,  0.2848159 ,  0.47941503,\n",
       "                      -0.3229471 , -0.41228977, -0.41729236,  0.18298388,\n",
       "                       0.282293  ,  0.09051534, -0.169887  , -0.05301806],\n",
       "                     [ 0.57274276, -0.4236755 , -0.53213394,  0.4027686 ,\n",
       "                       0.5928744 , -0.37100098, -0.42630017,  0.04333367,\n",
       "                       0.590373  ,  0.24832179, -0.459279  , -0.5347354 ,\n",
       "                      -0.29889315, -0.56474894,  0.07966571,  0.1060551 ,\n",
       "                      -0.20948364,  0.44484025, -0.52255565, -0.4331447 ,\n",
       "                      -0.32305136,  0.1387009 ,  0.18425438,  0.60693985,\n",
       "                      -0.45247275, -0.5093635 , -0.05444609, -0.24860503,\n",
       "                       0.42689526,  0.06422436, -0.50903714,  0.17724925],\n",
       "                     [-0.02103991, -0.32861707, -0.540111  , -0.3349897 ,\n",
       "                       0.56613886, -0.29708946, -0.54247195,  0.13013022,\n",
       "                      -0.48120573, -0.13291211,  0.08383448,  0.5352801 ,\n",
       "                      -0.51456857, -0.2885417 ,  0.3653922 ,  0.57621074,\n",
       "                      -0.31698254, -0.12696111, -0.01650468, -0.0910624 ,\n",
       "                       0.5569268 ,  0.43635437,  0.01656352,  0.2006919 ,\n",
       "                      -0.00555607, -0.43233848, -0.29973048,  0.23606195,\n",
       "                       0.5962746 , -0.50830144,  0.13364169, -0.16301985]],            dtype=float32),\n",
       "        bias: DeviceArray([0., 0., 0., 0., 0., 0., 0., 0., 0., 0., 0., 0., 0., 0., 0.,\n",
       "                     0., 0., 0., 0., 0., 0., 0., 0., 0., 0., 0., 0., 0., 0., 0.,\n",
       "                     0., 0.], dtype=float32),\n",
       "    },\n",
       "    Dense_1: {\n",
       "        kernel: DeviceArray([[-0.25549933, -0.35982686,  0.305548  , -0.01078293],\n",
       "                     [-0.17769195,  0.07869255, -0.21288176,  0.12118181],\n",
       "                     [-0.18460716,  0.23080474,  0.0702237 ,  0.37098715],\n",
       "                     [-0.02079942,  0.34073326, -0.13211887,  0.11847335],\n",
       "                     [-0.32776758,  0.06245038, -0.27388906,  0.40917942],\n",
       "                     [-0.3703039 ,  0.2691144 ,  0.0703925 ,  0.38813242],\n",
       "                     [ 0.34625137,  0.07214817,  0.2616672 ,  0.27040282],\n",
       "                     [ 0.33551437,  0.19838937,  0.4103967 , -0.39719614],\n",
       "                     [ 0.4001283 , -0.15162522,  0.01377859,  0.14127631],\n",
       "                     [-0.26476094,  0.08877604,  0.3056815 , -0.18119287],\n",
       "                     [-0.29231235, -0.00164015,  0.08663777, -0.37895766],\n",
       "                     [ 0.29023975,  0.10221724, -0.14291532,  0.3088445 ],\n",
       "                     [ 0.03028866,  0.28777978,  0.27790916, -0.31851918],\n",
       "                     [ 0.11277346,  0.3327068 , -0.27848855, -0.14527678],\n",
       "                     [ 0.01997423, -0.35735947,  0.00377511,  0.3585368 ],\n",
       "                     [-0.3957092 ,  0.01146637,  0.0310039 , -0.15499306],\n",
       "                     [-0.36672145, -0.12988819,  0.2699939 , -0.10461981],\n",
       "                     [ 0.3522653 ,  0.23111549, -0.15279604,  0.134495  ],\n",
       "                     [-0.3070433 , -0.22301294,  0.400306  ,  0.01808033],\n",
       "                     [ 0.38380954,  0.18991672,  0.22990006,  0.23489721],\n",
       "                     [ 0.24967732,  0.08715664, -0.27805483, -0.19913073],\n",
       "                     [ 0.24595672, -0.2992007 ,  0.3879906 , -0.28447935],\n",
       "                     [-0.29651   , -0.06018265, -0.03441406, -0.01693634],\n",
       "                     [-0.15462522,  0.41118503,  0.04027831,  0.20444275],\n",
       "                     [ 0.3096282 , -0.20265229, -0.26843593, -0.23018923],\n",
       "                     [ 0.22950704, -0.07429563,  0.2708328 ,  0.14002249],\n",
       "                     [ 0.37355304, -0.3118093 ,  0.18030967,  0.21529691],\n",
       "                     [-0.12079921,  0.36857373, -0.31597725,  0.23597708],\n",
       "                     [ 0.4157783 ,  0.23555082,  0.26384997,  0.0925017 ],\n",
       "                     [-0.0454748 , -0.07708203, -0.38210425, -0.35130405],\n",
       "                     [-0.2975039 , -0.26600435, -0.41825178,  0.3203948 ],\n",
       "                     [ 0.39465556, -0.05140553, -0.09734172, -0.11243721]],            dtype=float32),\n",
       "        bias: DeviceArray([0., 0., 0., 0.], dtype=float32),\n",
       "    },\n",
       "    Dense_2: {\n",
       "        kernel: DeviceArray([[-0.41058886],\n",
       "                     [ 0.11940834],\n",
       "                     [-0.3705913 ],\n",
       "                     [ 0.71617675]], dtype=float32),\n",
       "        bias: DeviceArray([0.], dtype=float32),\n",
       "    },\n",
       "})"
      ]
     },
     "execution_count": 9,
     "metadata": {},
     "output_type": "execute_result"
    }
   ],
   "source": [
    "state.params"
   ]
  },
  {
   "cell_type": "code",
   "execution_count": 10,
   "id": "23fbacc4",
   "metadata": {},
   "outputs": [
    {
     "data": {
      "text/plain": [
       "frozen_dict_keys(['user', 'movie', 'Dense_0', 'Dense_1', 'Dense_2'])"
      ]
     },
     "execution_count": 10,
     "metadata": {},
     "output_type": "execute_result"
    }
   ],
   "source": [
    "state.params.keys()"
   ]
  },
  {
   "cell_type": "code",
   "execution_count": 11,
   "id": "e2b4480c",
   "metadata": {},
   "outputs": [
    {
     "name": "stdout",
     "output_type": "stream",
     "text": [
      "Shape:\t (138494, 8)\n",
      "Mean:\t -4.4421763e-06\n",
      "Std:\t 0.0038013132\n"
     ]
    }
   ],
   "source": [
    "print(\"Shape:\\t\", state.params['user']['embedding'].shape)\n",
    "print(\"Mean:\\t\", state.params['user']['embedding'].mean())\n",
    "print(\"Std:\\t\", state.params['user']['embedding'].std())"
   ]
  },
  {
   "cell_type": "code",
   "execution_count": 12,
   "id": "a6a0a199",
   "metadata": {},
   "outputs": [
    {
     "name": "stdout",
     "output_type": "stream",
     "text": [
      "Shape:\t (26744, 8)\n",
      "Mean:\t 2.797547e-05\n",
      "Std:\t 0.008661809\n"
     ]
    }
   ],
   "source": [
    "print(\"Shape:\\t\", state.params['movie']['embedding'].shape)\n",
    "print(\"Mean:\\t\", state.params['movie']['embedding'].mean())\n",
    "print(\"Std:\\t\", state.params['movie']['embedding'].std())"
   ]
  },
  {
   "cell_type": "code",
   "execution_count": 13,
   "id": "7914ac91",
   "metadata": {},
   "outputs": [
    {
     "name": "stdout",
     "output_type": "stream",
     "text": [
      "Shape:\t (16, 32)\n",
      "Mean:\t 0.0025646356\n",
      "Std:\t 0.35773057\n"
     ]
    }
   ],
   "source": [
    "print(\"Shape:\\t\", state.params['Dense_0']['kernel'].shape)\n",
    "print(\"Mean:\\t\", state.params['Dense_0']['kernel'].mean())\n",
    "print(\"Std:\\t\", state.params['Dense_0']['kernel'].std())"
   ]
  },
  {
   "cell_type": "code",
   "execution_count": 14,
   "id": "d6aa4d00",
   "metadata": {},
   "outputs": [
    {
     "name": "stdout",
     "output_type": "stream",
     "text": [
      "Shape:\t (32,)\n",
      "Mean:\t 0.0\n",
      "Std:\t 0.0\n"
     ]
    }
   ],
   "source": [
    "print(\"Shape:\\t\", state.params['Dense_0']['bias'].shape)\n",
    "print(\"Mean:\\t\", state.params['Dense_0']['bias'].mean())\n",
    "print(\"Std:\\t\", state.params['Dense_0']['bias'].std())"
   ]
  },
  {
   "cell_type": "code",
   "execution_count": 15,
   "id": "91826fb7",
   "metadata": {},
   "outputs": [
    {
     "name": "stdout",
     "output_type": "stream",
     "text": [
      "Shape:\t (32, 4)\n",
      "Mean:\t 0.029176384\n",
      "Std:\t 0.25124845\n"
     ]
    }
   ],
   "source": [
    "print(\"Shape:\\t\", state.params['Dense_1']['kernel'].shape)\n",
    "print(\"Mean:\\t\", state.params['Dense_1']['kernel'].mean())\n",
    "print(\"Std:\\t\", state.params['Dense_1']['kernel'].std())"
   ]
  },
  {
   "cell_type": "code",
   "execution_count": 16,
   "id": "8a757019",
   "metadata": {},
   "outputs": [
    {
     "name": "stdout",
     "output_type": "stream",
     "text": [
      "Shape:\t (4,)\n",
      "Mean:\t 0.0\n",
      "Std:\t 0.0\n"
     ]
    }
   ],
   "source": [
    "print(\"Shape:\\t\", state.params['Dense_1']['bias'].shape)\n",
    "print(\"Mean:\\t\", state.params['Dense_1']['bias'].mean())\n",
    "print(\"Std:\\t\", state.params['Dense_1']['bias'].std())"
   ]
  },
  {
   "cell_type": "code",
   "execution_count": 17,
   "id": "205797a7",
   "metadata": {},
   "outputs": [
    {
     "name": "stdout",
     "output_type": "stream",
     "text": [
      "Shape:\t (4, 1)\n",
      "Mean:\t 0.013601229\n",
      "Std:\t 0.4561657\n"
     ]
    }
   ],
   "source": [
    "print(\"Shape:\\t\", state.params['Dense_2']['kernel'].shape)\n",
    "print(\"Mean:\\t\", state.params['Dense_2']['kernel'].mean())\n",
    "print(\"Std:\\t\", state.params['Dense_2']['kernel'].std())"
   ]
  },
  {
   "cell_type": "code",
   "execution_count": 18,
   "id": "7d7e3a04",
   "metadata": {},
   "outputs": [
    {
     "name": "stdout",
     "output_type": "stream",
     "text": [
      "Shape:\t (1,)\n",
      "Mean:\t 0.0\n",
      "Std:\t 0.0\n"
     ]
    }
   ],
   "source": [
    "print(\"Shape:\\t\", state.params['Dense_2']['bias'].shape)\n",
    "print(\"Mean:\\t\", state.params['Dense_2']['bias'].mean())\n",
    "print(\"Std:\\t\", state.params['Dense_2']['bias'].std())"
   ]
  },
  {
   "cell_type": "markdown",
   "id": "81fb9d66",
   "metadata": {},
   "source": [
    "### Print the default Keras weights"
   ]
  },
  {
   "cell_type": "code",
   "execution_count": 19,
   "id": "9f415516",
   "metadata": {},
   "outputs": [
    {
     "data": {
      "text/plain": [
       "'2.7.0'"
      ]
     },
     "execution_count": 19,
     "metadata": {},
     "output_type": "execute_result"
    }
   ],
   "source": [
    "# Setup. Import libraries and load dataframes for Movielens data.\n",
    "import numpy as np\n",
    "import pandas as pd\n",
    "from matplotlib import pyplot as plt\n",
    "import tensorflow as tf\n",
    "from tensorflow import keras\n",
    "import os\n",
    "import random\n",
    "\n",
    "tf.__version__"
   ]
  },
  {
   "cell_type": "code",
   "execution_count": 20,
   "id": "c3d61d5c",
   "metadata": {},
   "outputs": [
    {
     "data": {
      "text/html": [
       "<div>\n",
       "<style scoped>\n",
       "    .dataframe tbody tr th:only-of-type {\n",
       "        vertical-align: middle;\n",
       "    }\n",
       "\n",
       "    .dataframe tbody tr th {\n",
       "        vertical-align: top;\n",
       "    }\n",
       "\n",
       "    .dataframe thead th {\n",
       "        text-align: right;\n",
       "    }\n",
       "</style>\n",
       "<table border=\"1\" class=\"dataframe\">\n",
       "  <thead>\n",
       "    <tr style=\"text-align: right;\">\n",
       "      <th></th>\n",
       "      <th>userId</th>\n",
       "      <th>movieId</th>\n",
       "      <th>rating</th>\n",
       "      <th>y</th>\n",
       "      <th>title</th>\n",
       "      <th>year</th>\n",
       "    </tr>\n",
       "  </thead>\n",
       "  <tbody>\n",
       "    <tr>\n",
       "      <th>12904240</th>\n",
       "      <td>85731</td>\n",
       "      <td>1883</td>\n",
       "      <td>4.5</td>\n",
       "      <td>0.974498</td>\n",
       "      <td>Labyrinth</td>\n",
       "      <td>1986</td>\n",
       "    </tr>\n",
       "    <tr>\n",
       "      <th>6089380</th>\n",
       "      <td>45008</td>\n",
       "      <td>1221</td>\n",
       "      <td>4.5</td>\n",
       "      <td>0.974498</td>\n",
       "      <td>Femme Nikita, La (Nikita)</td>\n",
       "      <td>1990</td>\n",
       "    </tr>\n",
       "    <tr>\n",
       "      <th>17901393</th>\n",
       "      <td>125144</td>\n",
       "      <td>3948</td>\n",
       "      <td>4.0</td>\n",
       "      <td>0.474498</td>\n",
       "      <td>The Alamo</td>\n",
       "      <td>1960</td>\n",
       "    </tr>\n",
       "    <tr>\n",
       "      <th>9024816</th>\n",
       "      <td>122230</td>\n",
       "      <td>3027</td>\n",
       "      <td>3.5</td>\n",
       "      <td>-0.025502</td>\n",
       "      <td>Toy Story 2</td>\n",
       "      <td>1999</td>\n",
       "    </tr>\n",
       "    <tr>\n",
       "      <th>11655659</th>\n",
       "      <td>21156</td>\n",
       "      <td>5202</td>\n",
       "      <td>3.0</td>\n",
       "      <td>-0.525502</td>\n",
       "      <td>My Big Fat Greek Wedding</td>\n",
       "      <td>2002</td>\n",
       "    </tr>\n",
       "  </tbody>\n",
       "</table>\n",
       "</div>"
      ],
      "text/plain": [
       "          userId  movieId  rating         y                      title  year\n",
       "12904240   85731     1883     4.5  0.974498                  Labyrinth  1986\n",
       "6089380    45008     1221     4.5  0.974498  Femme Nikita, La (Nikita)  1990\n",
       "17901393  125144     3948     4.0  0.474498                  The Alamo  1960\n",
       "9024816   122230     3027     3.5 -0.025502                Toy Story 2  1999\n",
       "11655659   21156     5202     3.0 -0.525502   My Big Fat Greek Wedding  2002"
      ]
     },
     "execution_count": 20,
     "metadata": {},
     "output_type": "execute_result"
    }
   ],
   "source": [
    "input_dir = 'data/movie-lens'\n",
    "ratings_path = os.path.join(input_dir, 'rating.csv')\n",
    "\n",
    "ratings_df = pd.read_csv(ratings_path, usecols=['userId', 'movieId', 'rating', 'y'])\n",
    "\n",
    "movies_df = pd.read_csv(os.path.join(input_dir, 'movie.csv'), usecols=['movieId', 'title', 'year'])\n",
    "\n",
    "df = ratings_df.merge(movies_df, on='movieId').sort_values(by='userId')\n",
    "df = df.sample(frac=1, random_state=1) # Shuffle\n",
    "\n",
    "df.sample(5, random_state=1)"
   ]
  },
  {
   "cell_type": "code",
   "execution_count": 21,
   "id": "8a948075",
   "metadata": {},
   "outputs": [
    {
     "name": "stdout",
     "output_type": "stream",
     "text": [
      "Model: \"model\"\n",
      "________________________________________________________________________________________\n",
      " Layer (type)                Output Shape       Param #   Connected to                  \n",
      "========================================================================================\n",
      " user_id (InputLayer)        [(None, 1)]        0         []                            \n",
      "                                                                                        \n",
      " movie_id (InputLayer)       [(None, 1)]        0         []                            \n",
      "                                                                                        \n",
      " user_embedding (Embedding)  (None, 1, 8)       1107952   ['user_id[0][0]']             \n",
      "                                                                                        \n",
      " movie_embedding (Embedding)  (None, 1, 8)      213952    ['movie_id[0][0]']            \n",
      "                                                                                        \n",
      " concatenate (Concatenate)   (None, 1, 16)      0         ['user_embedding[0][0]',      \n",
      "                                                           'movie_embedding[0][0]']     \n",
      "                                                                                        \n",
      " flatten (Flatten)           (None, 16)         0         ['concatenate[0][0]']         \n",
      "                                                                                        \n",
      " dense (Dense)               (None, 32)         544       ['flatten[0][0]']             \n",
      "                                                                                        \n",
      " dense_1 (Dense)             (None, 4)          132       ['dense[0][0]']               \n",
      "                                                                                        \n",
      " prediction (Dense)          (None, 1)          5         ['dense_1[0][0]']             \n",
      "                                                                                        \n",
      "========================================================================================\n",
      "Total params: 1,322,585\n",
      "Trainable params: 1,322,585\n",
      "Non-trainable params: 0\n",
      "________________________________________________________________________________________\n"
     ]
    }
   ],
   "source": [
    "tf.random.set_seed(1)\n",
    "np.random.seed(1)\n",
    "random.seed(1)\n",
    "\n",
    "hidden_units = (32,4)\n",
    "movie_embedding_size = 8\n",
    "user_embedding_size = 8\n",
    "\n",
    "# Each instance will consist of two inputs: a single user id, and a single movie id\n",
    "user_id_input = keras.Input(shape=(1,), name='user_id')\n",
    "movie_id_input = keras.Input(shape=(1,), name='movie_id')\n",
    "user_embedded = keras.layers.Embedding(df.userId.max()+1, user_embedding_size, \n",
    "                                       input_length=1, name='user_embedding')(user_id_input)\n",
    "movie_embedded = keras.layers.Embedding(df.movieId.max()+1, movie_embedding_size, \n",
    "                                        input_length=1, name='movie_embedding')(movie_id_input)\n",
    "# Concatenate the embeddings (and remove the useless extra dimension)\n",
    "concatenated = keras.layers.Concatenate()([user_embedded, movie_embedded])\n",
    "out = keras.layers.Flatten()(concatenated)\n",
    "\n",
    "# Add one or more hidden layers\n",
    "for n_hidden in hidden_units:\n",
    "    out = keras.layers.Dense(n_hidden, activation='relu')(out)\n",
    "\n",
    "# A single output: our predicted rating\n",
    "out = keras.layers.Dense(1, activation='linear', name='prediction')(out)\n",
    "\n",
    "model = keras.Model(\n",
    "    inputs = [user_id_input, movie_id_input],\n",
    "    outputs = out,\n",
    ")\n",
    "model.summary(line_length=88)"
   ]
  },
  {
   "cell_type": "code",
   "execution_count": 22,
   "id": "f7ae7066",
   "metadata": {},
   "outputs": [
    {
     "data": {
      "text/plain": [
       "[array([[-0.03348692,  0.04014813,  0.01309742, ...,  0.01425021,\n",
       "          0.04757855, -0.00649005],\n",
       "        [ 0.01601019,  0.01048958,  0.01366315, ...,  0.01277617,\n",
       "          0.0031975 , -0.04740218],\n",
       "        [-0.00591249, -0.02473292,  0.03862232, ..., -0.0440448 ,\n",
       "         -0.04289062, -0.01915853],\n",
       "        ...,\n",
       "        [-0.02868495,  0.005866  , -0.01473292, ..., -0.03378378,\n",
       "         -0.04109376,  0.02150441],\n",
       "        [ 0.04850432, -0.04216467,  0.02519933, ..., -0.01390805,\n",
       "          0.04621546,  0.02585406],\n",
       "        [-0.03591843,  0.02629702, -0.02125278, ...,  0.03549831,\n",
       "         -0.00832587, -0.04367541]], dtype=float32),\n",
       " array([[ 0.0010107 , -0.00564682, -0.00914669, ..., -0.01541504,\n",
       "         -0.0063933 ,  0.0101061 ],\n",
       "        [-0.00433757,  0.0252698 , -0.03120028, ...,  0.00495271,\n",
       "         -0.02201053, -0.03910435],\n",
       "        [ 0.01309114,  0.0373818 ,  0.0032263 , ...,  0.04284838,\n",
       "         -0.03902638,  0.0463542 ],\n",
       "        ...,\n",
       "        [-0.02446281, -0.01340784,  0.02119485, ...,  0.00040748,\n",
       "          0.02566209,  0.02722421],\n",
       "        [ 0.01193301, -0.0320342 , -0.0168735 , ..., -0.01491175,\n",
       "          0.01196126, -0.01112726],\n",
       "        [ 0.00416191,  0.00237545, -0.03089286, ..., -0.04667428,\n",
       "          0.03244242,  0.04408352]], dtype=float32),\n",
       " array([[ 2.32834250e-01,  9.49135125e-02,  1.04139745e-02,\n",
       "         -7.70174563e-02,  5.72069287e-02, -3.19271564e-01,\n",
       "         -2.27948532e-01,  1.44745916e-01, -5.72159886e-03,\n",
       "         -1.08864382e-01,  5.59371710e-03, -1.96806058e-01,\n",
       "          2.46466190e-01,  3.14017504e-01,  1.86622143e-02,\n",
       "         -8.33388269e-02, -1.55691132e-01, -3.29672039e-01,\n",
       "         -4.81493175e-02, -2.86961377e-01,  3.28912228e-01,\n",
       "          1.81700796e-01,  1.22154534e-01,  2.39858627e-02,\n",
       "         -1.24780044e-01, -7.20759034e-02, -2.14191034e-01,\n",
       "          2.30367273e-01, -2.45443523e-01,  7.24547207e-02,\n",
       "          1.10732406e-01,  3.07434708e-01],\n",
       "        [ 3.31938952e-01, -9.45970416e-03, -7.03036487e-02,\n",
       "          1.36763245e-01,  1.24862731e-01, -6.81937635e-02,\n",
       "         -3.42063904e-01, -1.33394897e-02,  2.70745367e-01,\n",
       "         -1.30757093e-02,  7.94088840e-03,  6.20829761e-02,\n",
       "          3.34004551e-01,  1.28481388e-01,  2.51129121e-01,\n",
       "         -3.48913282e-01, -4.82824147e-02, -3.10980350e-01,\n",
       "         -8.35110247e-02,  1.59488410e-01, -1.30715966e-02,\n",
       "          3.15209627e-02, -3.28035921e-01, -2.70887494e-01,\n",
       "          2.25169092e-01,  2.56057590e-01,  3.38756830e-01,\n",
       "         -6.19237423e-02,  9.38185453e-02,  1.35955960e-01,\n",
       "          6.31755590e-03, -1.19321689e-01],\n",
       "        [-5.37135303e-02, -1.44661888e-01, -3.67052555e-02,\n",
       "          2.91676909e-01, -1.26862764e-01, -2.96901882e-01,\n",
       "          3.41231853e-01, -3.12009394e-01,  1.54280871e-01,\n",
       "         -9.49240625e-02, -2.87952572e-01, -9.98198986e-04,\n",
       "         -1.91686645e-01,  5.55019975e-02,  3.14065844e-01,\n",
       "         -6.34899139e-02,  2.04822987e-01, -2.63316393e-01,\n",
       "          2.13596791e-01,  1.60027057e-01, -2.74932742e-01,\n",
       "          2.97429234e-01,  1.94981784e-01, -2.77999640e-02,\n",
       "         -3.10329020e-01, -9.65029597e-02,  1.22585386e-01,\n",
       "         -2.53453851e-03, -2.13847041e-01,  1.66762441e-01,\n",
       "          1.50449842e-01,  8.01411271e-02],\n",
       "        [-1.63987309e-01, -2.01251030e-01,  1.65583760e-01,\n",
       "          3.02516311e-01, -1.46616071e-01,  1.32988900e-01,\n",
       "          1.69566870e-02, -2.45603845e-01,  2.51898617e-01,\n",
       "          3.34812790e-01,  1.22314781e-01, -2.30916351e-01,\n",
       "         -4.96345758e-03,  2.12170482e-02, -3.14534098e-01,\n",
       "         -2.07127735e-01,  1.92405313e-01, -3.09288412e-01,\n",
       "         -2.12099373e-01, -2.33198583e-01, -6.18887544e-02,\n",
       "          9.81593132e-03, -3.24119955e-01, -2.44684368e-01,\n",
       "          2.85337299e-01, -4.27336991e-02, -2.15695009e-01,\n",
       "         -1.62105262e-02, -2.61761099e-01, -2.31876016e-01,\n",
       "          3.17671984e-01, -1.30680501e-02],\n",
       "        [ 3.04447502e-01,  1.83636278e-01, -1.39790803e-01,\n",
       "          2.87422091e-01, -9.86237824e-02,  3.13684076e-01,\n",
       "          2.20109075e-01,  2.00278789e-01, -2.18253821e-01,\n",
       "         -3.08519661e-01, -1.54358789e-01, -7.06703067e-02,\n",
       "          2.39108354e-01,  1.29634082e-01,  5.85997105e-02,\n",
       "         -8.07119012e-02,  2.38558084e-01, -1.14398435e-01,\n",
       "         -2.51492679e-01,  2.34154969e-01,  3.33375424e-01,\n",
       "          2.91732818e-01, -1.57650203e-01,  1.68252975e-01,\n",
       "          2.89994150e-01,  2.05035836e-01, -1.40165672e-01,\n",
       "         -2.19625875e-01, -1.01050019e-01, -3.36442530e-01,\n",
       "          3.19727093e-01, -5.80898225e-02],\n",
       "        [ 2.62949973e-01, -5.38530648e-02,  6.98150694e-02,\n",
       "          2.54181296e-01,  3.51503462e-01, -7.59030282e-02,\n",
       "          2.47872084e-01,  1.07784659e-01,  4.66870666e-02,\n",
       "         -2.69960254e-01,  1.70300394e-01,  2.01559812e-01,\n",
       "          5.82301617e-03, -3.33411068e-01,  1.01983726e-01,\n",
       "          3.47456932e-02, -7.74729848e-02, -1.53000221e-01,\n",
       "          1.94164366e-01,  2.84159452e-01, -2.42535889e-01,\n",
       "         -1.19759262e-01, -1.59280270e-01, -3.29209864e-02,\n",
       "          3.26168209e-01, -1.80331275e-01, -2.95835435e-02,\n",
       "          2.47834176e-01, -4.05318737e-02,  2.15057522e-01,\n",
       "          2.60705501e-01, -8.97665620e-02],\n",
       "        [ 1.34649873e-02, -3.38541090e-01,  1.37342334e-01,\n",
       "          2.66803890e-01, -2.59357125e-01,  8.66212249e-02,\n",
       "          3.31178457e-01,  1.67353421e-01, -2.89418519e-01,\n",
       "         -1.51030615e-01, -3.15299898e-01,  3.47917169e-01,\n",
       "          2.08205611e-01, -2.57649571e-01,  4.06216383e-02,\n",
       "          3.27273160e-01, -1.75881237e-01, -9.60310996e-02,\n",
       "         -2.81227708e-01,  2.86352187e-01, -2.40070224e-01,\n",
       "         -3.71377766e-02,  3.27482015e-01,  3.11000645e-02,\n",
       "         -5.08100390e-02,  3.31923038e-01,  8.76505971e-02,\n",
       "          2.08487898e-01,  3.33734006e-01, -2.13108703e-01,\n",
       "          2.84274846e-01,  1.70503229e-01],\n",
       "        [-2.52278388e-01, -4.92817163e-02, -3.07548165e-01,\n",
       "          2.27223247e-01,  1.72065407e-01,  1.67932779e-01,\n",
       "         -2.87533551e-01, -2.32074291e-01,  3.11869234e-01,\n",
       "          2.59615451e-01, -2.40280777e-01,  4.18314338e-02,\n",
       "         -9.12308991e-02, -1.86454371e-01,  2.68765718e-01,\n",
       "         -2.00980112e-01, -4.06775177e-02,  3.44510525e-01,\n",
       "          1.17453933e-03, -1.90552726e-01,  3.10850173e-01,\n",
       "          3.32962960e-01,  1.10799253e-01, -2.04923794e-01,\n",
       "          1.40906513e-01, -3.11713815e-02, -1.65872887e-01,\n",
       "          2.62585312e-01,  7.76495934e-02, -3.10336500e-01,\n",
       "          3.31558734e-01,  3.27274591e-01],\n",
       "        [ 1.97535723e-01, -2.67116189e-01, -2.49074131e-01,\n",
       "          2.18508631e-01, -2.86461920e-01,  1.41230464e-01,\n",
       "          1.64884537e-01, -2.83984035e-01, -2.84103215e-01,\n",
       "         -3.21128458e-01,  1.78685784e-02, -3.42256933e-01,\n",
       "          2.42372721e-01, -8.97297263e-03,  3.30843240e-01,\n",
       "         -2.81949013e-01, -1.41454935e-02,  2.79107124e-01,\n",
       "         -5.48918843e-02,  1.21659309e-01, -3.14372838e-01,\n",
       "          8.21135938e-02, -3.25179100e-01, -6.18366897e-02,\n",
       "         -3.23928207e-01, -1.46590531e-01,  2.40585208e-02,\n",
       "         -1.30261242e-01,  2.21149415e-01,  1.61953717e-01,\n",
       "          2.59812623e-01, -2.47113883e-01],\n",
       "        [-6.00149333e-02,  7.29415119e-02, -3.37720513e-01,\n",
       "         -1.71568856e-01, -2.99919993e-01,  2.16597050e-01,\n",
       "         -2.69633293e-01, -1.02466911e-01,  9.69883204e-02,\n",
       "         -3.05328131e-01, -3.35218400e-01,  3.08144063e-01,\n",
       "         -1.98856294e-02,  1.76653534e-01,  1.88548535e-01,\n",
       "          4.35052514e-02,  8.12612176e-02, -1.35074407e-01,\n",
       "          2.88214892e-01,  5.17109931e-02,  2.88529724e-01,\n",
       "          7.81498551e-02,  3.01449925e-01, -1.17170259e-01,\n",
       "          2.67784297e-02,  1.31507099e-01, -1.25265822e-01,\n",
       "         -1.27969965e-01, -1.22545078e-01,  1.67322069e-01,\n",
       "         -3.02723944e-01, -8.89655054e-02],\n",
       "        [-1.87480479e-01, -2.08250269e-01,  2.19147503e-02,\n",
       "         -1.41557857e-01,  6.06467128e-02, -1.98974937e-01,\n",
       "         -1.57629713e-01,  7.42238760e-03,  1.46199226e-01,\n",
       "         -3.22331160e-01,  8.35646391e-02,  3.04333180e-01,\n",
       "         -1.14602670e-01,  1.51783437e-01,  1.27008021e-01,\n",
       "          3.40044498e-04, -1.91544354e-01,  1.42058313e-01,\n",
       "         -3.28734547e-01, -2.84346998e-01, -3.03300440e-01,\n",
       "         -9.00337696e-02,  2.60636359e-01, -3.10168594e-01,\n",
       "          1.45715147e-01,  6.54768944e-03, -1.95755333e-01,\n",
       "          1.51130825e-01,  2.22461492e-01,  1.62071973e-01,\n",
       "         -2.88039148e-02,  9.45749879e-03],\n",
       "        [-1.42086968e-01,  1.44544542e-01, -2.89425343e-01,\n",
       "          1.61646813e-01, -1.95122451e-01, -3.57033610e-02,\n",
       "          3.20240855e-03,  2.49543786e-02, -9.22649205e-02,\n",
       "         -1.68857977e-01, -3.20634753e-01,  3.52621108e-01,\n",
       "          3.50865752e-01, -3.54422927e-02, -1.54835299e-01,\n",
       "         -2.00967804e-01, -3.46654803e-01,  2.07963854e-01,\n",
       "         -2.05092967e-01, -1.20707482e-01, -6.81806207e-02,\n",
       "         -4.90204096e-02, -1.93242207e-01,  8.08233321e-02,\n",
       "         -9.39562023e-02, -1.79263189e-01,  1.90553218e-01,\n",
       "          2.45718747e-01,  4.10113335e-02,  1.89361304e-01,\n",
       "         -1.90708756e-01, -3.39866191e-01],\n",
       "        [-1.52731836e-01,  2.15621591e-02,  6.04440570e-02,\n",
       "          1.76945001e-01, -1.99143946e-01, -2.89776623e-01,\n",
       "         -8.24252367e-02,  2.98620790e-01, -1.86712980e-01,\n",
       "         -2.77485073e-01, -1.89621612e-01, -1.39102727e-01,\n",
       "         -1.61066204e-01, -3.16937476e-01,  1.10366672e-01,\n",
       "          8.70945156e-02,  1.14739060e-01,  1.17200702e-01,\n",
       "         -5.24668396e-02, -1.82400852e-01,  3.00594121e-01,\n",
       "          1.21107191e-01, -1.43438622e-01,  2.68053502e-01,\n",
       "          2.67852753e-01,  3.33701044e-01,  1.51255518e-01,\n",
       "         -1.91773474e-01,  2.28036016e-01,  2.03472823e-01,\n",
       "          2.81471223e-01, -3.30187261e-01],\n",
       "        [-9.88543332e-02,  1.83660597e-01, -1.51780158e-01,\n",
       "          2.22218901e-01,  3.30938071e-01, -9.43637490e-02,\n",
       "          3.32250446e-01, -2.29047552e-01,  1.44551873e-01,\n",
       "         -1.34889305e-01,  1.66261405e-01, -1.67548299e-01,\n",
       "         -1.98381335e-01,  2.19891220e-01, -1.15882173e-01,\n",
       "         -9.58196819e-02, -2.29461849e-01, -7.30738640e-02,\n",
       "          3.47508937e-01, -1.79963246e-01, -8.25800002e-02,\n",
       "          2.30046809e-02,  8.70170593e-02, -3.48403215e-01,\n",
       "          1.68200582e-01,  1.06148601e-01, -1.19485557e-01,\n",
       "         -7.51424432e-02, -1.44166663e-01, -2.54165292e-01,\n",
       "          4.78734374e-02,  2.77088374e-01],\n",
       "        [ 1.77121162e-02,  3.41193080e-02, -2.53175020e-01,\n",
       "         -1.45309091e-01, -2.06888005e-01,  1.23414397e-03,\n",
       "         -1.71777397e-01,  3.20009381e-01,  2.48288810e-02,\n",
       "          9.40338373e-02,  3.44339162e-01, -2.81809151e-01,\n",
       "         -2.04251975e-01,  1.09918803e-01,  3.43650579e-04,\n",
       "         -2.09802464e-01, -1.49262562e-01,  4.62798476e-02,\n",
       "          1.07394725e-01,  2.04692572e-01,  2.35012084e-01,\n",
       "         -2.60177463e-01, -3.31804156e-03,  2.99931377e-01,\n",
       "         -2.44216710e-01, -3.06770295e-01, -1.95729032e-01,\n",
       "          3.20161968e-01,  1.05455786e-01,  9.78776813e-03,\n",
       "         -3.18990618e-01,  2.76247114e-01],\n",
       "        [ 3.09777886e-01,  1.36640161e-01,  6.10231459e-02,\n",
       "          1.31746590e-01,  9.07899439e-02, -3.11214924e-01,\n",
       "         -2.22055614e-02, -7.64257312e-02,  3.44601840e-01,\n",
       "         -1.97943091e-01,  1.36174858e-02, -2.82617509e-02,\n",
       "          1.66037351e-01,  2.66135365e-01, -2.53126562e-01,\n",
       "          3.21084112e-01, -5.48827946e-02, -9.79499519e-02,\n",
       "         -3.28995585e-01,  1.31492257e-01,  2.36820608e-01,\n",
       "         -3.04938257e-02, -1.95003688e-01,  2.94918925e-01,\n",
       "          3.23480159e-01,  1.78643018e-01, -5.03549576e-02,\n",
       "          2.96974182e-03,  1.49263471e-01, -2.19868392e-01,\n",
       "         -1.85223088e-01,  1.90414220e-01]], dtype=float32),\n",
       " array([0., 0., 0., 0., 0., 0., 0., 0., 0., 0., 0., 0., 0., 0., 0., 0., 0.,\n",
       "        0., 0., 0., 0., 0., 0., 0., 0., 0., 0., 0., 0., 0., 0., 0.],\n",
       "       dtype=float32),\n",
       " array([[-0.21518597, -0.21329068,  0.00296488,  0.2233445 ],\n",
       "        [ 0.09044722,  0.30388236, -0.18546942,  0.09660476],\n",
       "        [-0.24289481,  0.30216557, -0.00620055, -0.00250673],\n",
       "        [-0.38365638,  0.15167624,  0.10742831, -0.23854876],\n",
       "        [-0.04970565, -0.25396734,  0.215078  , -0.02134514],\n",
       "        [-0.22052717, -0.15451351,  0.28558528, -0.07014889],\n",
       "        [-0.23950846, -0.04605252,  0.05664644,  0.04518944],\n",
       "        [-0.05575758, -0.14044961, -0.16398703, -0.35230172],\n",
       "        [-0.00550345,  0.28965074,  0.14774579, -0.2631476 ],\n",
       "        [-0.40287042, -0.18325867, -0.350722  , -0.0342899 ],\n",
       "        [ 0.06604588, -0.38204387,  0.30025983, -0.2964649 ],\n",
       "        [-0.155314  ,  0.39516187, -0.09053716, -0.3652659 ],\n",
       "        [-0.23916146,  0.2357676 , -0.38569564, -0.10873559],\n",
       "        [-0.40316057,  0.3005467 ,  0.3182646 , -0.3424922 ],\n",
       "        [-0.23656274,  0.05584964, -0.04150876, -0.1834804 ],\n",
       "        [-0.14317876, -0.06481576,  0.30284756,  0.22314614],\n",
       "        [ 0.05721194, -0.15079361, -0.11132887,  0.08222082],\n",
       "        [-0.16605654,  0.1745975 ,  0.2176857 , -0.08943775],\n",
       "        [-0.1941041 ,  0.3690008 ,  0.18550271,  0.4068358 ],\n",
       "        [ 0.05629009, -0.32531685,  0.40276617,  0.08433044],\n",
       "        [ 0.2702033 , -0.40496853, -0.01530167, -0.24233913],\n",
       "        [-0.10492682,  0.03350255,  0.38642484, -0.04648885],\n",
       "        [-0.00554287,  0.02895841,  0.02106425, -0.01431587],\n",
       "        [ 0.33954966,  0.32809192, -0.06661227, -0.25257254],\n",
       "        [-0.20370883, -0.36312038, -0.27547103,  0.22176671],\n",
       "        [ 0.063117  ,  0.32643247, -0.31937966,  0.16099274],\n",
       "        [ 0.23118174,  0.24937063, -0.19727856,  0.16209465],\n",
       "        [ 0.34989035, -0.08180395, -0.38651267, -0.17793216],\n",
       "        [-0.24043937, -0.36887583,  0.03911686,  0.40228277],\n",
       "        [ 0.40724617, -0.3688486 ,  0.28152055, -0.33242407],\n",
       "        [ 0.08143595, -0.28542137, -0.1312508 , -0.15710443],\n",
       "        [-0.05566356, -0.24883665,  0.25007075,  0.09182119]],\n",
       "       dtype=float32),\n",
       " array([0., 0., 0., 0.], dtype=float32),\n",
       " array([[ 0.5143815 ],\n",
       "        [-0.78387284],\n",
       "        [-0.95657897],\n",
       "        [-0.6809289 ]], dtype=float32),\n",
       " array([0.], dtype=float32)]"
      ]
     },
     "execution_count": 22,
     "metadata": {},
     "output_type": "execute_result"
    }
   ],
   "source": [
    "keras_weights = model.get_weights()\n",
    "keras_weights"
   ]
  },
  {
   "cell_type": "code",
   "execution_count": 23,
   "id": "820e2fa2",
   "metadata": {},
   "outputs": [
    {
     "name": "stdout",
     "output_type": "stream",
     "text": [
      "Shape:\t (138494, 8)\n",
      "Mean:\t 9.316845e-06\n",
      "Std:\t 0.028877884\n"
     ]
    }
   ],
   "source": [
    "# User Embedding\n",
    "print(\"Shape:\\t\", keras_weights[0].shape)\n",
    "print(\"Mean:\\t\", keras_weights[0].mean())\n",
    "print(\"Std:\\t\", keras_weights[0].std())"
   ]
  },
  {
   "cell_type": "code",
   "execution_count": 24,
   "id": "9665ee09",
   "metadata": {},
   "outputs": [
    {
     "name": "stdout",
     "output_type": "stream",
     "text": [
      "Shape:\t (26744, 8)\n",
      "Mean:\t 2.4546707e-05\n",
      "Std:\t 0.02890124\n"
     ]
    }
   ],
   "source": [
    "# Movie Embedding \n",
    "print(\"Shape:\\t\", keras_weights[1].shape)\n",
    "print(\"Mean:\\t\", keras_weights[1].mean())\n",
    "print(\"Std:\\t\", keras_weights[1].std())"
   ]
  },
  {
   "cell_type": "code",
   "execution_count": 27,
   "id": "0befff2d",
   "metadata": {},
   "outputs": [
    {
     "name": "stdout",
     "output_type": "stream",
     "text": [
      "Shape:\t (16, 32)\n",
      "Mean:\t 0.002208138\n",
      "Std:\t 0.20556653\n"
     ]
    }
   ],
   "source": [
    "# Dense 0 kernel\n",
    "print(\"Shape:\\t\", keras_weights[2].shape)\n",
    "print(\"Mean:\\t\", keras_weights[2].mean())\n",
    "print(\"Std:\\t\", keras_weights[2].std())"
   ]
  },
  {
   "cell_type": "code",
   "execution_count": 28,
   "id": "573518c8",
   "metadata": {},
   "outputs": [
    {
     "name": "stdout",
     "output_type": "stream",
     "text": [
      "Shape:\t (32,)\n",
      "Mean:\t 0.0\n",
      "Std:\t 0.0\n"
     ]
    }
   ],
   "source": [
    "# Dense 0 bias\n",
    "print(\"Shape:\\t\", keras_weights[3].shape)\n",
    "print(\"Mean:\\t\", keras_weights[3].mean())\n",
    "print(\"Std:\\t\", keras_weights[3].std())"
   ]
  },
  {
   "cell_type": "code",
   "execution_count": 31,
   "id": "7ada0498",
   "metadata": {},
   "outputs": [
    {
     "name": "stdout",
     "output_type": "stream",
     "text": [
      "Shape:\t (32, 4)\n",
      "Mean:\t -0.02374632\n",
      "Std:\t 0.23336196\n"
     ]
    }
   ],
   "source": [
    "# Dense 1 kernel\n",
    "print(\"Shape:\\t\", keras_weights[4].shape)\n",
    "print(\"Mean:\\t\", keras_weights[4].mean())\n",
    "print(\"Std:\\t\", keras_weights[4].std())"
   ]
  },
  {
   "cell_type": "code",
   "execution_count": 32,
   "id": "06282a39",
   "metadata": {},
   "outputs": [
    {
     "name": "stdout",
     "output_type": "stream",
     "text": [
      "Shape:\t (4,)\n",
      "Mean:\t 0.0\n",
      "Std:\t 0.0\n"
     ]
    }
   ],
   "source": [
    "# Dense 1 bias\n",
    "print(\"Shape:\\t\", keras_weights[5].shape)\n",
    "print(\"Mean:\\t\", keras_weights[5].mean())\n",
    "print(\"Std:\\t\", keras_weights[5].std())"
   ]
  },
  {
   "cell_type": "code",
   "execution_count": 33,
   "id": "3adb5734",
   "metadata": {},
   "outputs": [
    {
     "name": "stdout",
     "output_type": "stream",
     "text": [
      "Shape:\t (4, 1)\n",
      "Mean:\t -0.47674978\n",
      "Std:\t 0.58064425\n"
     ]
    }
   ],
   "source": [
    "# Dense 2 kernel\n",
    "print(\"Shape:\\t\", keras_weights[6].shape)\n",
    "print(\"Mean:\\t\", keras_weights[6].mean())\n",
    "print(\"Std:\\t\", keras_weights[6].std())"
   ]
  },
  {
   "cell_type": "code",
   "execution_count": 34,
   "id": "2117ec99",
   "metadata": {},
   "outputs": [
    {
     "name": "stdout",
     "output_type": "stream",
     "text": [
      "Shape:\t (1,)\n",
      "Mean:\t 0.0\n",
      "Std:\t 0.0\n"
     ]
    }
   ],
   "source": [
    "# Dense 2 bias\n",
    "print(\"Shape:\\t\", keras_weights[7].shape)\n",
    "print(\"Mean:\\t\", keras_weights[7].mean())\n",
    "print(\"Std:\\t\", keras_weights[7].std())"
   ]
  },
  {
   "cell_type": "markdown",
   "id": "002c7a03",
   "metadata": {},
   "source": [
    "### Comparison"
   ]
  },
  {
   "cell_type": "markdown",
   "id": "28f3ba7a",
   "metadata": {},
   "source": [
    "The shapes and biases are identical so I've omitted them.\n",
    "\n",
    "|               | Jax        | Keras    |\n",
    "|---------------|------------|----------|\n",
    "|User Mean      | -4.44e-06  | 9.32e-06 |\n",
    "|User Std       |  0.00380   | 0.0289   |\n",
    "|Movie Mean     |  2.80e-05  | 2.45e-05 |\n",
    "|Movie Std      |  0.00866   | 0.0289   |\n",
    "|Dense_0 Mean   |  0.00256   | 0.00220  |\n",
    "|Dense_0 Std    |  0.358     | 0.2055   |\n",
    "|Dense_1 Mean   |  0.0292    |-0.0237   |\n",
    "|Dense_1 Std    |  0.251     | 0.2333   |\n",
    "|Dense_2 Mean   |  0.0136    |-0.477    |\n",
    "|Dense_2 Std    |  0.456     | 0.581    |\n",
    "\n",
    "- Keras Standard Deviations seem to match up better. Not sure what's wrong in Jax (Uniform vs Normal distribution?)\n"
   ]
  },
  {
   "cell_type": "markdown",
   "id": "0657c941",
   "metadata": {},
   "source": [
    "## Load Keras Weights into Jax Model"
   ]
  },
  {
   "cell_type": "markdown",
   "id": "647c776d",
   "metadata": {},
   "source": [
    "Now that we've compared the weights and they seem somewhat different, let's try loading the Keras weights into our Jax model."
   ]
  },
  {
   "cell_type": "code",
   "execution_count": 67,
   "id": "70bd93df",
   "metadata": {},
   "outputs": [],
   "source": [
    "# Unfreeze params so we can update it directly.\n",
    "unfrozen_state_params = state.params.unfreeze()"
   ]
  },
  {
   "cell_type": "code",
   "execution_count": 72,
   "id": "01b3f1ca",
   "metadata": {},
   "outputs": [],
   "source": [
    "# Update with Keras weights\n",
    "unfrozen_state_params['user']['embedding'] = state.params['user']['embedding'].at[:].set(keras_weights[0])\n",
    "unfrozen_state_params['movie']['embedding'] = state.params['movie']['embedding'].at[:].set(keras_weights[1])\n",
    "unfrozen_state_params['Dense_0']['kernel'] = state.params['Dense_0']['kernel'].at[:].set(keras_weights[2])\n",
    "unfrozen_state_params['Dense_0']['bias'] = state.params['Dense_0']['bias'].at[:].set(keras_weights[3])\n",
    "unfrozen_state_params['Dense_1']['kernel'] = state.params['Dense_1']['kernel'].at[:].set(keras_weights[4])\n",
    "unfrozen_state_params['Dense_1']['bias'] = state.params['Dense_1']['bias'].at[:].set(keras_weights[5])\n",
    "unfrozen_state_params['Dense_2']['kernel'] = state.params['Dense_2']['kernel'].at[:].set(keras_weights[6])\n",
    "unfrozen_state_params['Dense_2']['bias'] = state.params['Dense_2']['bias'].at[:].set(keras_weights[7])"
   ]
  },
  {
   "cell_type": "code",
   "execution_count": 85,
   "id": "fc5a5a56",
   "metadata": {},
   "outputs": [],
   "source": [
    "# Freeze new params\n",
    "new_params = frozen_dict.freeze(unfrozen_state_params)"
   ]
  },
  {
   "cell_type": "code",
   "execution_count": 91,
   "id": "c6523b41",
   "metadata": {},
   "outputs": [],
   "source": [
    "# Update state\n",
    "new_state = state.replace(step=0, params=new_params, opt_state=state.opt_state)"
   ]
  },
  {
   "cell_type": "code",
   "execution_count": 92,
   "id": "15e24dfc",
   "metadata": {},
   "outputs": [],
   "source": [
    "# TODO(joshvarty): Run this through the model.\n",
    "# Might not have to create an entire train_state like we've done. \n",
    "# Might be able to integrate with `create_train_state`"
   ]
  },
  {
   "cell_type": "markdown",
   "id": "527cc467",
   "metadata": {},
   "source": [
    "## Run One Step of Forward Pass on Each Model with same weights"
   ]
  },
  {
   "cell_type": "code",
   "execution_count": null,
   "id": "b5baabc2",
   "metadata": {},
   "outputs": [],
   "source": []
  }
 ],
 "metadata": {
  "kernelspec": {
   "display_name": "Python 3 (ipykernel)",
   "language": "python",
   "name": "python3"
  },
  "language_info": {
   "codemirror_mode": {
    "name": "ipython",
    "version": 3
   },
   "file_extension": ".py",
   "mimetype": "text/x-python",
   "name": "python",
   "nbconvert_exporter": "python",
   "pygments_lexer": "ipython3",
   "version": "3.8.10"
  }
 },
 "nbformat": 4,
 "nbformat_minor": 5
}
